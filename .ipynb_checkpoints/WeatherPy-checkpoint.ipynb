{
 "cells": [
  {
   "cell_type": "markdown",
   "metadata": {},
   "source": [
    "# WeatherPy\n",
    "----\n",
    "\n",
    "#### Note\n",
    "* Instructions have been included for each segment. You do not have to follow them exactly, but they are included to help you think through the steps."
   ]
  },
  {
   "cell_type": "code",
   "execution_count": 1,
   "metadata": {
    "scrolled": true
   },
   "outputs": [
    {
     "name": "stdout",
     "output_type": "stream",
     "text": [
      "Requirement already satisfied: matplotlib in c:\\users\\wagne\\anaconda3\\lib\\site-packages (3.3.2)\n",
      "Requirement already satisfied: cycler>=0.10 in c:\\users\\wagne\\anaconda3\\lib\\site-packages (from matplotlib) (0.10.0)\n",
      "Requirement already satisfied: pyparsing!=2.0.4,!=2.1.2,!=2.1.6,>=2.0.3 in c:\\users\\wagne\\anaconda3\\lib\\site-packages (from matplotlib) (2.4.7)\n",
      "Requirement already satisfied: python-dateutil>=2.1 in c:\\users\\wagne\\anaconda3\\lib\\site-packages (from matplotlib) (2.8.1)\n",
      "Requirement already satisfied: kiwisolver>=1.0.1 in c:\\users\\wagne\\anaconda3\\lib\\site-packages (from matplotlib) (1.3.0)\n",
      "Requirement already satisfied: certifi>=2020.06.20 in c:\\users\\wagne\\anaconda3\\lib\\site-packages (from matplotlib) (2020.6.20)\n",
      "Requirement already satisfied: pillow>=6.2.0 in c:\\users\\wagne\\anaconda3\\lib\\site-packages (from matplotlib) (8.0.1)\n",
      "Requirement already satisfied: numpy>=1.15 in c:\\users\\wagne\\anaconda3\\lib\\site-packages (from matplotlib) (1.19.2)\n",
      "Requirement already satisfied: six in c:\\users\\wagne\\anaconda3\\lib\\site-packages (from cycler>=0.10->matplotlib) (1.15.0)\n",
      "Requirement already satisfied: pandas in c:\\users\\wagne\\anaconda3\\lib\\site-packages (1.1.3)\n",
      "Requirement already satisfied: python-dateutil>=2.7.3 in c:\\users\\wagne\\anaconda3\\lib\\site-packages (from pandas) (2.8.1)\n",
      "Requirement already satisfied: numpy>=1.15.4 in c:\\users\\wagne\\anaconda3\\lib\\site-packages (from pandas) (1.19.2)\n",
      "Requirement already satisfied: pytz>=2017.2 in c:\\users\\wagne\\anaconda3\\lib\\site-packages (from pandas) (2020.1)\n",
      "Requirement already satisfied: six>=1.5 in c:\\users\\wagne\\anaconda3\\lib\\site-packages (from python-dateutil>=2.7.3->pandas) (1.15.0)\n",
      "Requirement already satisfied: numpy in c:\\users\\wagne\\anaconda3\\lib\\site-packages (1.19.2)\n",
      "Requirement already satisfied: requests in c:\\users\\wagne\\anaconda3\\lib\\site-packages (2.24.0)\n",
      "Requirement already satisfied: urllib3!=1.25.0,!=1.25.1,<1.26,>=1.21.1 in c:\\users\\wagne\\anaconda3\\lib\\site-packages (from requests) (1.25.11)\n",
      "Requirement already satisfied: chardet<4,>=3.0.2 in c:\\users\\wagne\\anaconda3\\lib\\site-packages (from requests) (3.0.4)\n",
      "Requirement already satisfied: idna<3,>=2.5 in c:\\users\\wagne\\anaconda3\\lib\\site-packages (from requests) (2.10)\n",
      "Requirement already satisfied: certifi>=2017.4.17 in c:\\users\\wagne\\anaconda3\\lib\\site-packages (from requests) (2020.6.20)\n",
      "Requirement already satisfied: citipy in c:\\users\\wagne\\anaconda3\\lib\\site-packages (0.0.5)\n",
      "Requirement already satisfied: kdtree>=0.12 in c:\\users\\wagne\\anaconda3\\lib\\site-packages (from citipy) (0.16)\n"
     ]
    }
   ],
   "source": [
    "# Dependencies and Setup\n",
    "!pip install matplotlib\n",
    "!pip install pandas\n",
    "!pip install numpy\n",
    "!pip install requests\n",
    "!pip install citipy\n",
    "import matplotlib.pyplot as plt\n",
    "import pandas as pd\n",
    "import numpy as np\n",
    "import requests\n",
    "import json\n",
    "import time\n",
    "from scipy.stats import linregress\n",
    "\n",
    "# Import API key\n",
    "from api_keys import weather_api_key\n",
    "\n",
    "# Incorporated citipy to determine city based on latitude and longitude\n",
    "from citipy import citipy\n",
    "\n",
    "# Output File (CSV)\n",
    "output_data_file = \"output_data/cities.csv\"\n",
    "\n",
    "# Range of latitudes and longitudes\n",
    "lat_range = (-90, 90)\n",
    "lng_range = (-180, 180)"
   ]
  },
  {
   "cell_type": "markdown",
   "metadata": {},
   "source": [
    "## Generate Cities List"
   ]
  },
  {
   "cell_type": "code",
   "execution_count": 2,
   "metadata": {},
   "outputs": [
    {
     "data": {
      "text/plain": [
       "628"
      ]
     },
     "execution_count": 2,
     "metadata": {},
     "output_type": "execute_result"
    }
   ],
   "source": [
    "# List for holding lat_lngs and cities\n",
    "lat_lngs = []\n",
    "cities = []\n",
    "\n",
    "# Create a set of random lat and lng combinations\n",
    "lats = np.random.uniform(lat_range[0], lat_range[1], size=1500)\n",
    "lngs = np.random.uniform(lng_range[0], lng_range[1], size=1500)\n",
    "lat_lngs = zip(lats, lngs)\n",
    "\n",
    "# Identify nearest city for each lat, lng combination\n",
    "for lat_lng in lat_lngs:\n",
    "    city = citipy.nearest_city(lat_lng[0], lat_lng[1]).city_name\n",
    "    \n",
    "    #use %20 in place of spaces to create URL\n",
    "    city = city.replace(\" \", \"%20\")\n",
    "    # If the city is unique, then add it to a our cities list\n",
    "    if city not in cities:\n",
    "        cities.append(city)\n",
    "\n",
    "# Print the city count to confirm sufficient count\n",
    "len(cities)"
   ]
  },
  {
   "cell_type": "markdown",
   "metadata": {},
   "source": [
    "### Perform API Calls\n",
    "* Perform a weather check on each city using a series of successive API calls.\n",
    "* Include a print log of each city as it'sbeing processed (with the city number and city name).\n"
   ]
  },
  {
   "cell_type": "code",
   "execution_count": 3,
   "metadata": {
    "scrolled": true
   },
   "outputs": [
    {
     "data": {
      "text/plain": [
       "'http://api.openweathermap.org/data/2.5/weather?appid=218661d74970b37f6e9ab6d5a6f76ec2&units=standard&q='"
      ]
     },
     "execution_count": 3,
     "metadata": {},
     "output_type": "execute_result"
    }
   ],
   "source": [
    "#define api key\n",
    "api_key = weather_api_key\n",
    "units = \"standard\"\n",
    "url = \"http://api.openweathermap.org/data/2.5/weather?\"\n",
    "query_url= f\"{url}appid={api_key}&units={units}&q=\"\n",
    "\n",
    "query_url\n",
    "    "
   ]
  },
  {
   "cell_type": "code",
   "execution_count": 4,
   "metadata": {},
   "outputs": [
    {
     "name": "stdout",
     "output_type": "stream",
     "text": [
      "Processing 1| Kavaratti\n",
      "tumannyy not found. Skipping...\n",
      "Processing 2| Søgne\n",
      "saleaula not found. Skipping...\n",
      "Processing 3| Carnarvon\n",
      "Processing 4| Zhangaözen\n",
      "Processing 5| Salalah\n",
      "taolanaro not found. Skipping...\n",
      "Processing 6| Khatanga\n",
      "Processing 7| Arraial do Cabo\n",
      "Processing 8| Busselton\n",
      "umm%20durman not found. Skipping...\n",
      "Processing 9| Saskylakh\n",
      "Processing 10| Atuona\n",
      "Processing 11| Mossamedes\n",
      "Processing 12| Flinders\n",
      "Processing 13| Crotone\n",
      "Processing 14| Hermanus\n",
      "Processing 15| Upernavik\n",
      "Processing 16| Mataura\n",
      "Processing 17| Lumby\n",
      "Processing 18| Jamestown\n",
      "Processing 19| Maku\n",
      "Processing 20| Ushuaia\n",
      "Processing 21| High Prairie\n",
      "Processing 22| Nanortalik\n",
      "linchuan not found. Skipping...\n",
      "Processing 23| Rikitea\n",
      "Processing 24| Agadez\n",
      "Processing 25| New Norfolk\n",
      "Processing 26| Vila Velha\n",
      "Processing 27| Klaksvík\n",
      "Processing 28| Dikson\n",
      "illoqqortoormiut not found. Skipping...\n",
      "Processing 29| Siátista\n",
      "Processing 30| Barrow\n",
      "Processing 31| Cherskiy\n",
      "Processing 32| Geraldton\n",
      "Processing 33| Hervey Bay\n",
      "Processing 34| Mandello del Lario\n",
      "Processing 35| Manturovo\n",
      "sentyabrskiy not found. Skipping...\n",
      "Processing 36| Acaraú\n",
      "Processing 37| Barentu\n",
      "Processing 38| Bluff\n",
      "Processing 39| Yellowknife\n",
      "Processing 40| Puerto Ayora\n",
      "Processing 41| Port Alfred\n",
      "Processing 42| Outjo\n",
      "Processing 43| Yangi Marg`ilon\n",
      "Processing 44| Lae\n",
      "Processing 45| Cape Town\n",
      "Processing 46| Nome\n",
      "Processing 47| Qaanaaq\n",
      "Processing 48| Labuhan\n",
      "Processing 49| Am Timan\n",
      "Processing 50| Plettenberg Bay\n",
      "Processing 51| Price\n",
      "Processing 52| Wiarton\n",
      "Processing 53| Albany\n",
      "Processing 54| Hilo\n",
      "chagda not found. Skipping...\n",
      "Processing 55| Guerrero Negro\n",
      "Processing 56| Mahébourg\n",
      "Processing 57| Butaritari\n",
      "Processing 58| Leningradskiy\n",
      "Processing 59| Constitución\n",
      "Processing 60| Hobart\n",
      "Processing 61| Mar del Plata\n",
      "Processing 62| Concordia\n",
      "Processing 63| East London\n",
      "Processing 64| Asău\n",
      "Processing 65| Port Elizabeth\n",
      "Processing 66| Bredasdorp\n",
      "Processing 67| Vaini\n",
      "Processing 68| Pākāla\n",
      "Processing 69| Turukhansk\n",
      "Processing 70| Marabá\n",
      "Processing 71| The Valley\n",
      "Processing 72| Darien\n",
      "Processing 73| Vilcún\n",
      "Processing 74| Dingle\n",
      "Processing 75| Balkhash\n",
      "Processing 76| Cabo San Lucas\n",
      "Processing 77| Pangnirtung\n",
      "Processing 78| Bambous Virieux\n",
      "tsihombe not found. Skipping...\n",
      "Processing 79| Nikolskoye\n",
      "Processing 80| Kruisfontein\n",
      "Processing 81| Tombouctou\n",
      "Processing 82| Berasia\n",
      "Processing 83| Iquitos\n",
      "Processing 84| Port Shepstone\n",
      "Processing 85| Mnogovershinnyy\n",
      "Processing 86| San Patricio\n",
      "Processing 87| Sabang\n",
      "Processing 88| Bereda\n",
      "Processing 89| Te Anau\n",
      "Processing 90| Kaitangata\n",
      "barentsburg not found. Skipping...\n",
      "Processing 91| Zadar\n",
      "Processing 92| Tasiilaq\n",
      "Processing 93| Adrar\n",
      "Processing 94| Artesia\n",
      "Processing 95| Kalmar\n",
      "Processing 96| Punta Arenas\n",
      "Processing 97| Flin Flon\n",
      "Processing 98| Sitka\n",
      "Processing 99| Meulaboh\n",
      "Processing 100| Mayna\n",
      "Processing 101| Avera\n",
      "Processing 102| Avarua\n",
      "Processing 103| Saint-Philippe\n",
      "Processing 104| Bethel\n",
      "Processing 105| Philadelphia\n",
      "Processing 106| Vostok\n",
      "Processing 107| Isangel\n",
      "Processing 108| Barra do Corda\n",
      "Processing 109| Vanavara\n",
      "Processing 110| Lompoc\n",
      "Processing 111| Touros\n",
      "Processing 112| Cullman\n",
      "Processing 113| Kaeo\n",
      "Processing 114| Pochutla\n",
      "Processing 115| Santa María del Oro\n",
      "Processing 116| Kathu\n",
      "Processing 117| Kiruna\n",
      "sorvag not found. Skipping...\n",
      "Processing 118| Quatre Cocos\n",
      "Processing 119| Cap Malheureux\n",
      "Processing 120| Luanda\n",
      "Processing 121| Torbay\n",
      "Processing 122| Fort Nelson\n",
      "Processing 123| Lorengau\n",
      "Processing 124| Alta Floresta\n",
      "Processing 125| Rawson\n",
      "Processing 126| Eydhafushi\n",
      "Processing 127| Buin\n",
      "Processing 128| Garmsār\n",
      "Processing 129| Omboué\n",
      "Processing 130| Port Lincoln\n",
      "Processing 131| Takoradze\n",
      "Processing 132| Turriff\n",
      "Processing 133| Qaqortoq\n",
      "Processing 134| Simpang\n",
      "Processing 135| Kovūr\n",
      "Processing 136| Pisco\n",
      "Processing 137| Jesup\n",
      "Processing 138| Pierre\n",
      "Processing 139| Kaminskiy\n",
      "Processing 140| Puerto Maldonado\n",
      "Processing 141| Żagań\n",
      "Processing 142| Cidreira\n",
      "Processing 143| Alekseyevsk\n",
      "Processing 144| Jiménez\n",
      "Processing 145| São Filipe\n",
      "Processing 146| Paso de los Toros\n",
      "Processing 147| San Andrés\n",
      "Processing 148| Tuktoyaktuk\n",
      "Processing 149| Katsuura\n",
      "Processing 150| Suntar\n",
      "Processing 151| Barra de Tecoanapa\n",
      "Processing 152| Öhringen\n",
      "Processing 153| Mahibadhoo\n",
      "Processing 154| Naze\n",
      "Processing 155| Tocopilla\n",
      "Processing 156| Pitsunda\n",
      "Processing 157| Tongchuanshi\n",
      "Processing 158| Kashan\n",
      "Processing 159| Elko\n",
      "Processing 160| Polson\n",
      "Processing 161| Kapaa\n",
      "Processing 162| Iisalmi\n",
      "Processing 163| Bafoulabé\n",
      "Processing 164| Singapore\n",
      "Processing 165| Verāval\n",
      "Processing 166| Chui\n",
      "Processing 167| Zaigrayevo\n",
      "Processing 168| Castro\n",
      "Processing 169| Hambantota\n",
      "Processing 170| São João da Barra\n",
      "samusu not found. Skipping...\n",
      "Processing 171| Esperance\n",
      "Processing 172| Gaziantep\n",
      "Processing 173| Arvin\n",
      "Processing 174| Tual\n",
      "Processing 175| Kashgar\n",
      "Processing 176| Anloga\n",
      "Processing 177| Ribeira Grande\n",
      "Processing 178| Toamasina\n",
      "Processing 179| Terra Santa\n",
      "Processing 180| Ucluelet\n",
      "Processing 181| Uvira\n",
      "Processing 182| Longyearbyen\n",
      "Processing 183| Balikpapan\n",
      "Processing 184| Hammerfest\n",
      "Processing 185| Polyarny\n",
      "Processing 186| Umluj\n",
      "Processing 187| Palu\n",
      "Processing 188| Iqaluit\n",
      "Processing 189| Saint Anthony\n",
      "Processing 190| La Santisima Trinidad\n",
      "Processing 191| Puerto Asís\n",
      "Processing 192| Baykit\n",
      "Processing 193| Noumea\n",
      "Processing 194| Burē\n",
      "kamenskoye not found. Skipping...\n",
      "Processing 195| Marzuq\n",
      "Processing 196| Leiyang\n",
      "Processing 197| Mount Isa\n",
      "Processing 198| Broome\n",
      "Processing 199| Clyde River\n",
      "Processing 200| Lukovetskiy\n",
      "Processing 201| Puri\n",
      "Processing 202| Corowa\n",
      "yirol not found. Skipping...\n",
      "Processing 203| Buala\n",
      "Processing 204| Bambanglipuro\n",
      "Processing 205| Nizhniy Tsasuchey\n",
      "Processing 206| Norsup\n",
      "Processing 207| Barcelos\n",
      "Processing 208| Yumen\n",
      "Processing 209| Rio Claro\n",
      "Processing 210| Jacksonville\n",
      "Processing 211| Ivanteyevka\n",
      "Processing 212| Olafsvik\n",
      "Processing 213| Hithadhoo\n",
      "Processing 214| Tazovsky\n",
      "Processing 215| Bengkulu\n",
      "Processing 216| Nacogdoches\n",
      "Processing 217| Faanui\n",
      "Processing 218| Boralday\n",
      "Processing 219| Gushi\n",
      "Processing 220| Río Gallegos\n",
      "Processing 221| Bosobolo\n",
      "Processing 222| Ancud\n",
      "Processing 223| Taoudenni\n",
      "Processing 224| Bonavista\n",
      "daxian not found. Skipping...\n",
      "Processing 225| Chumikan\n",
      "Processing 226| Indramayu\n",
      "Processing 227| Severo-Kuril'sk\n",
      "Processing 228| Kahului\n",
      "Processing 229| Chokurdakh\n",
      "Processing 230| NEDJO\n",
      "Processing 231| Zyryanka\n",
      "Processing 232| Manicoré\n",
      "Processing 233| Saint Paul Harbor\n",
      "Processing 234| Norman Wells\n",
      "Processing 235| Mehamn\n",
      "Processing 236| Taltal\n",
      "Processing 237| Washington\n",
      "Processing 238| Harar\n",
      "Processing 239| Trincomalee\n",
      "Processing 240| Alice Town\n",
      "Processing 241| Tarko-Sale\n",
      "Processing 242| Moroni\n",
      "Processing 243| Codrington\n",
      "attawapiskat not found. Skipping...\n",
      "Processing 244| Valparaíso\n",
      "Processing 245| Sorong\n",
      "Processing 246| Thompson\n",
      "Processing 247| Methven\n",
      "Processing 248| Zastron\n",
      "Processing 249| Amantea\n",
      "Processing 250| Tuyen Quang\n",
      "Processing 251| Cervo\n",
      "Processing 252| Cabedelo\n",
      "Processing 253| Shache\n",
      "Processing 254| Karachi\n",
      "Processing 255| Gorzów Wielkopolski\n",
      "Processing 256| Richards Bay\n",
      "Processing 257| Calabozo\n",
      "Processing 258| Acajutla\n",
      "Processing 259| San Cristobal\n",
      "paradwip not found. Skipping...\n",
      "Processing 260| Sittwe\n",
      "Processing 261| Heraclea\n",
      "Processing 262| Saint Lawrence\n",
      "Processing 263| Arroyo de la Encomienda\n",
      "Processing 264| Beloha\n",
      "Processing 265| Faya\n",
      "Processing 266| Kendari\n",
      "Processing 267| Pāvilosta\n",
      "Processing 268| Freeport\n",
      "Processing 269| North Myrtle Beach\n",
      "Processing 270| Hede\n",
      "Processing 271| Daloa\n",
      "Processing 272| Morehead\n",
      "Processing 273| Provideniya\n",
      "Processing 274| Praia\n",
      "Processing 275| Itoman\n",
      "Processing 276| Hofn\n",
      "Processing 277| Maracaçumé\n",
      "Processing 278| Cockburn Town\n",
      "Processing 279| Kathmandu\n",
      "Processing 280| Ponta do Sol\n",
      "Processing 281| Forsytheganj\n",
      "Processing 282| Mingora\n",
      "Processing 283| Nago\n",
      "Processing 284| Xingyi\n",
      "Processing 285| Yulara\n",
      "umzimvubu not found. Skipping...\n",
      "Processing 286| Mildura\n",
      "Processing 287| Warri\n",
      "Processing 288| Taraz\n",
      "Processing 289| Turka\n",
      "Processing 290| Nabire\n",
      "Processing 291| Tiarei\n",
      "Processing 292| Marshall\n",
      "aflu not found. Skipping...\n",
      "Processing 293| Makakilo City\n",
      "dolbeau not found. Skipping...\n",
      "Processing 294| Matara\n",
      "Processing 295| Kavieng\n",
      "Processing 296| Saint-François\n",
      "Processing 297| Yerbogachën\n",
      "Processing 298| Gisors\n",
      "Processing 299| Otane\n",
      "Processing 300| Kununurra\n"
     ]
    },
    {
     "name": "stdout",
     "output_type": "stream",
     "text": [
      "Processing 301| Assiut\n",
      "leonidion not found. Skipping...\n",
      "Processing 302| Inhambane\n",
      "Processing 303| Saint-Joseph\n",
      "Processing 304| Ilebo\n",
      "Processing 305| Nísia Floresta\n",
      "Processing 306| Laas\n",
      "Processing 307| Laguna\n",
      "Processing 308| Hirara\n",
      "Processing 309| Jiuquan\n",
      "Processing 310| George Town\n",
      "Processing 311| Narsaq\n",
      "Processing 312| Bajil\n",
      "Processing 313| Oxbow\n",
      "mys%20shmidta not found. Skipping...\n",
      "Processing 314| Ventosa\n",
      "Processing 315| Belmonte\n",
      "Processing 316| Durham\n",
      "Processing 317| Hong Kong\n",
      "Processing 318| Padang\n",
      "Processing 319| Clifton\n",
      "Processing 320| Filingué\n",
      "Processing 321| Vinh\n",
      "Processing 322| Los Corrales de Buelna\n",
      "Processing 323| Kyaikto\n",
      "Processing 324| Buta\n",
      "Processing 325| Nhulunbuy\n",
      "Processing 326| Muyezerskiy\n",
      "Processing 327| Likasi\n",
      "Processing 328| Sandwick\n",
      "Processing 329| Vitim\n",
      "Processing 330| Bubaque\n",
      "Processing 331| Dewā\n",
      "belushya%20guba not found. Skipping...\n",
      "Processing 332| Dunedin\n",
      "Processing 333| Eureka\n",
      "Processing 334| Vanimo\n",
      "Processing 335| Dakar\n",
      "Processing 336| Béjar\n",
      "Processing 337| Hasaki\n",
      "Processing 338| Coyhaique\n",
      "khurianwala not found. Skipping...\n",
      "Processing 339| Bassar\n",
      "Processing 340| Yunyang\n",
      "Processing 341| Acapulco de Juárez\n",
      "Processing 342| Emirdağ\n",
      "Processing 343| São Félix do Xingu\n",
      "Processing 344| Margate\n",
      "Processing 345| Manosque\n",
      "Processing 346| Saldanha\n",
      "Processing 347| Tuatapere\n",
      "Processing 348| Lebu\n",
      "Processing 349| Port Macquarie\n",
      "Processing 350| Inongo\n",
      "Processing 351| Pandharpur\n",
      "Processing 352| Kondopoga\n",
      "kolimvari not found. Skipping...\n",
      "Processing 353| Agde\n",
      "Processing 354| Edgewater\n",
      "Processing 355| Kiama\n",
      "Processing 356| Saint-Paul\n",
      "Processing 357| Kars\n",
      "Processing 358| San Quintín\n",
      "Processing 359| Lagoa\n",
      "vaitupu not found. Skipping...\n",
      "Processing 360| Klamath Falls\n",
      "Processing 361| Seoul\n",
      "Processing 362| Urengoy\n",
      "Processing 363| Broken Hill\n",
      "Processing 364| Fairbanks\n",
      "Processing 365| Ouadda\n",
      "skagastrond not found. Skipping...\n",
      "Processing 366| Dudinka\n",
      "Processing 367| Samarinda\n",
      "Processing 368| Keshorai Pātan\n",
      "Processing 369| Burns Lake\n",
      "Processing 370| Larsnes\n",
      "Processing 371| Pimentel\n",
      "Processing 372| Fare\n",
      "Processing 373| Viedma\n",
      "Processing 374| Ouésso\n",
      "Processing 375| Lepe\n",
      "Processing 376| Bandarbeyla\n",
      "Processing 377| Alexandria\n",
      "hunza not found. Skipping...\n",
      "Processing 378| São José da Coroa Grande\n",
      "Processing 379| Lavrentiya\n",
      "Processing 380| Vardø\n",
      "Processing 381| Shepsi\n",
      "Processing 382| Muroto-misakicho\n",
      "azimur not found. Skipping...\n",
      "Processing 383| Genoa\n",
      "Processing 384| Macaé\n",
      "Processing 385| Yenagoa\n",
      "Processing 386| Iskateley\n",
      "Processing 387| Yeppoon\n",
      "Processing 388| Pevek\n",
      "Processing 389| Butterworth\n",
      "Processing 390| Ubari\n",
      "Processing 391| Gamba\n",
      "Processing 392| Sayansk\n",
      "Processing 393| Terråk\n",
      "Processing 394| Hirado\n",
      "Processing 395| Valley City\n",
      "Processing 396| Abu Dhabi\n",
      "Processing 397| Tautira\n",
      "Processing 398| Airai\n",
      "Processing 399| Apollonia\n",
      "Processing 400| Talaya\n",
      "Processing 401| Atikokan\n",
      "Processing 402| Acoua\n",
      "Processing 403| Tahe\n",
      "Processing 404| Praia\n",
      "Processing 405| Lüderitz\n",
      "Processing 406| Lincoln\n",
      "sataua not found. Skipping...\n",
      "Processing 407| Mackay\n",
      "Processing 408| Nouadhibou\n",
      "Processing 409| Berlevåg\n",
      "Processing 410| Ketchikan\n",
      "Processing 411| Along\n",
      "Processing 412| Barkhan\n",
      "Processing 413| Tura\n",
      "Processing 414| San Jose\n",
      "Processing 415| Henties Bay\n",
      "Processing 416| Kodinsk\n",
      "Processing 417| Waghāi\n",
      "Processing 418| Dovolnoye\n",
      "ituni not found. Skipping...\n",
      "Processing 419| Port Augusta\n",
      "Processing 420| Tyukhtet\n",
      "Processing 421| Lesozavodsk\n",
      "Processing 422| Korla\n",
      "Processing 423| Makokou\n",
      "Processing 424| Isabela\n",
      "Processing 425| Pirgos\n",
      "Processing 426| Ambilobe\n",
      "Processing 427| Tiksi\n",
      "rawannawi not found. Skipping...\n",
      "karaul not found. Skipping...\n",
      "Processing 428| Falmouth\n",
      "Processing 429| Paka\n",
      "Processing 430| Okhotsk\n",
      "temaraia not found. Skipping...\n",
      "Processing 431| Cayenne\n",
      "Processing 432| Rafaela\n",
      "Processing 433| Nesna\n",
      "Processing 434| Sur\n",
      "Processing 435| Kościerzyna\n",
      "Processing 436| Karasburg\n",
      "Processing 437| Delta del Tigre\n",
      "Processing 438| Mount Gambier\n",
      "Processing 439| Lata\n",
      "Processing 440| Verkh-Usugli\n",
      "Processing 441| Arrondissement de Blois\n",
      "Processing 442| Stokmarknes\n",
      "Processing 443| Petrovsk-Zabaykal'skiy\n",
      "Processing 444| Namatanai\n",
      "Processing 445| Mountain Home\n",
      "Processing 446| Kondinskoye\n",
      "Processing 447| Erzin\n",
      "Processing 448| Prestea\n",
      "Processing 449| Natal\n",
      "Processing 450| Vestmannaeyjar\n",
      "Processing 451| Port Hedland\n",
      "Processing 452| Kennett\n",
      "Processing 453| Irtyshskiy\n",
      "sumbawa not found. Skipping...\n",
      "Processing 454| Wuwei\n",
      "Processing 455| Kailua\n",
      "Processing 456| Camacha\n",
      "Processing 457| Havøysund\n",
      "Processing 458| Miramar\n",
      "Processing 459| Grand Gaube\n",
      "Processing 460| Caravelas\n",
      "Processing 461| Kawalu\n",
      "Processing 462| Mokokchūng\n",
      "Processing 463| St. George's\n",
      "Processing 464| Pinega\n",
      "Processing 465| Plattsburgh\n",
      "Processing 466| Bonthe\n",
      "Processing 467| Tilichiki\n",
      "Processing 468| Griffith\n",
      "Processing 469| Jangaon\n",
      "Processing 470| Talas\n",
      "Processing 471| Puerto Escondido\n",
      "Processing 472| Ust-Kuyga\n",
      "Processing 473| Allāhganj\n",
      "Processing 474| Ust'-Karsk\n",
      "Processing 475| Peterhead\n",
      "Processing 476| ‘Āhuimanu\n",
      "Processing 477| Jalu\n",
      "Processing 478| Barra do Garças\n",
      "Processing 479| Warmbad\n",
      "Processing 480| Vadsø\n",
      "Processing 481| San Policarpo\n",
      "Processing 482| Lewistown\n",
      "Processing 483| Fortuna\n",
      "Processing 484| Troitsko-Pechorsk\n",
      "Processing 485| Cross Lanes\n",
      "Processing 486| Chystyakove\n",
      "Processing 487| Tezu\n",
      "Processing 488| Chitipa\n",
      "Processing 489| Bindura\n",
      "Processing 490| Hamilton\n",
      "Processing 491| Waipawa\n",
      "Processing 492| Mutoko\n",
      "Processing 493| Karratha\n",
      "Processing 494| Lazi\n",
      "Processing 495| Batagay\n",
      "Processing 496| Raudeberg\n",
      "Processing 497| Puro\n",
      "Processing 498| Bielsko-Biala\n",
      "Processing 499| Cape Coast\n",
      "amderma not found. Skipping...\n",
      "Processing 500| Khovd\n",
      "Processing 501| Carman\n",
      "Processing 502| Isla Vista\n",
      "Processing 503| Caucayá\n",
      "Processing 504| Sringeri\n",
      "Processing 505| Grindavik\n",
      "Processing 506| Mikhaylovka\n",
      "toliary not found. Skipping...\n",
      "Processing 507| Almaznyy\n",
      "Processing 508| Aklavik\n",
      "Processing 509| Aldan\n",
      "Processing 510| Lerwick\n",
      "Processing 511| Sinop Province\n",
      "ozgon not found. Skipping...\n",
      "Processing 512| Forbes\n",
      "Processing 513| Ürümqi\n",
      "palabuhanratu not found. Skipping...\n",
      "Processing 514| Mahon\n",
      "Processing 515| Sydney\n",
      "Processing 516| Wexford\n",
      "Processing 517| Corinth\n",
      "Processing 518| Ponta Delgada\n",
      "Processing 519| San Miguel de Tucumán\n",
      "Processing 520| Mareeba\n",
      "Processing 521| Umm Qays\n",
      "Processing 522| Palmer\n",
      "Processing 523| San-Pédro\n",
      "Processing 524| Denpasar\n",
      "Processing 525| Shizilu\n",
      "nizhneyansk not found. Skipping...\n",
      "Processing 526| Verkhniy Avzyan\n",
      "Processing 527| Ostrovnoy\n",
      "Processing 528| Moose Factory\n",
      "tsienyane not found. Skipping...\n",
      "Processing 529| Calvià\n",
      "Processing 530| Virginia Beach\n",
      "Processing 531| Poronaysk\n",
      "Processing 532| Agüimes\n",
      "Processing 533| Lukang\n",
      "Processing 534| Talnakh\n",
      "Processing 535| Gari\n",
      "Processing 536| Balakhninskiy\n",
      "Processing 537| Polunochnoye\n",
      "Processing 538| Rafrāf\n",
      "Processing 539| Pāsighāt\n",
      "Processing 540| Alice Springs\n",
      "Processing 541| Chatham\n",
      "cockburn%20harbour not found. Skipping...\n",
      "Processing 542| Kumluca\n",
      "Processing 543| Chara\n",
      "Processing 544| Tlmače\n",
      "deh%20rawud not found. Skipping...\n",
      "Processing 545| Ugoofaaru\n",
      "Processing 546| Hastings\n",
      "Processing 547| Souillac\n",
      "Processing 548| Aitape\n",
      "nguiu not found. Skipping...\n",
      "Processing 549| Keta\n",
      "Processing 550| São Gabriel da Cachoeira\n",
      "Processing 551| Saint George\n",
      "grand%20centre not found. Skipping...\n",
      "Processing 552| Vila Franca do Campo\n",
      "Processing 553| Srednekolymsk\n",
      "ao%20luk not found. Skipping...\n",
      "Processing 554| Calvinia\n",
      "Processing 555| Barranca\n",
      "Processing 556| Dhidhdhoo\n",
      "Processing 557| Itaituba\n",
      "Processing 558| Yelan’-Kolenovskiy\n",
      "Processing 559| Port Blair\n",
      "Processing 560| Leh\n",
      "Processing 561| Manzhouli\n",
      "Processing 562| Gubkinskiy\n",
      "Processing 563| Banyo\n",
      "Processing 564| Novoseleznëvo\n",
      "Processing 565| Constantine\n",
      "Processing 566| Navrongo\n",
      "Processing 567| Kulhudhuffushi\n",
      "Processing 568| Itarema\n",
      "Processing 569| Pyshma\n",
      "Processing 570| Nizwá\n",
      "Processing 571| Rauma\n",
      "Processing 572| Porto-Novo\n",
      "Processing 573| Djebeniana\n",
      "Processing 574| Shelburne\n",
      "Processing 575| Churapcha\n",
      "hihifo not found. Skipping...\n",
      "Processing 576| Port Hawkesbury\n",
      "Processing 577| De-Kastri\n",
      "Processing 578| Wanning\n",
      "Processing 579| Buraidah\n",
      "Processing 580| Harlingen\n",
      "marcona not found. Skipping...\n"
     ]
    }
   ],
   "source": [
    "#make lists to hold response info \n",
    "city_name = []\n",
    "lat = []\n",
    "lng = []\n",
    "max_temp = []\n",
    "humidity = []\n",
    "cloudiness = []\n",
    "wind_speed = []\n",
    "country = []\n",
    "date = []\n",
    "\n",
    "#begin record and set counter\n",
    "record = 1\n",
    "#Set = 1\n",
    "\n",
    "#make a for loop with exceptions to print the list as it is being processed \n",
    "#used fields in API response guide to find the headers https://openweathermap.org/current#parameter\n",
    "for city in cities:\n",
    "    try:\n",
    "        response = requests.get(query_url + city).json()\n",
    "        city_name.append(response['name'])\n",
    "        lat.append(response['coord']['lat'])\n",
    "        lng.append(response['coord']['lon'])\n",
    "        max_temp.append(response['main']['temp_max'])\n",
    "        humidity.append(response['main']['humidity'])\n",
    "        cloudiness.append(response['clouds']['all'])\n",
    "        wind_speed.append(response['wind']['speed'])\n",
    "        country.append(response['sys']['country'])\n",
    "        date.append(response['dt'])\n",
    "        #pull city names for printing\n",
    "        location = response['name']\n",
    "        print(f\"Processing {record}| {location}\")\n",
    "              \n",
    "        #add one to counter\n",
    "        #add wait time in loop due to api rate limit\n",
    "        record = record + 1\n",
    "        time.sleep(1.1)\n",
    "              \n",
    "        \n",
    "    except:\n",
    "        print(f\"{city} not found. Skipping...\")\n",
    "   \n",
    "\n",
    "    continue"
   ]
  },
  {
   "cell_type": "markdown",
   "metadata": {},
   "source": [
    "### Convert Raw Data to DataFrame\n",
    "* Export the city data into a .csv.\n",
    "* Display the DataFrame"
   ]
  },
  {
   "cell_type": "code",
   "execution_count": 5,
   "metadata": {},
   "outputs": [
    {
     "data": {
      "text/html": [
       "<div>\n",
       "<style scoped>\n",
       "    .dataframe tbody tr th:only-of-type {\n",
       "        vertical-align: middle;\n",
       "    }\n",
       "\n",
       "    .dataframe tbody tr th {\n",
       "        vertical-align: top;\n",
       "    }\n",
       "\n",
       "    .dataframe thead th {\n",
       "        text-align: right;\n",
       "    }\n",
       "</style>\n",
       "<table border=\"1\" class=\"dataframe\">\n",
       "  <thead>\n",
       "    <tr style=\"text-align: right;\">\n",
       "      <th></th>\n",
       "      <th>City</th>\n",
       "      <th>Lat</th>\n",
       "      <th>Lon</th>\n",
       "      <th>Max Temp</th>\n",
       "      <th>Humidity</th>\n",
       "      <th>Cloudiness</th>\n",
       "      <th>Wind Speed</th>\n",
       "      <th>Country</th>\n",
       "      <th>Date</th>\n",
       "    </tr>\n",
       "  </thead>\n",
       "  <tbody>\n",
       "    <tr>\n",
       "      <th>0</th>\n",
       "      <td>Kavaratti</td>\n",
       "      <td>10.5669</td>\n",
       "      <td>72.6420</td>\n",
       "      <td>301.15</td>\n",
       "      <td>55</td>\n",
       "      <td>0</td>\n",
       "      <td>1.54</td>\n",
       "      <td>IN</td>\n",
       "      <td>1614900019</td>\n",
       "    </tr>\n",
       "    <tr>\n",
       "      <th>1</th>\n",
       "      <td>Søgne</td>\n",
       "      <td>58.0833</td>\n",
       "      <td>7.8167</td>\n",
       "      <td>274.26</td>\n",
       "      <td>51</td>\n",
       "      <td>0</td>\n",
       "      <td>1.54</td>\n",
       "      <td>NO</td>\n",
       "      <td>1614900021</td>\n",
       "    </tr>\n",
       "    <tr>\n",
       "      <th>2</th>\n",
       "      <td>Carnarvon</td>\n",
       "      <td>-24.8667</td>\n",
       "      <td>113.6333</td>\n",
       "      <td>294.15</td>\n",
       "      <td>100</td>\n",
       "      <td>22</td>\n",
       "      <td>3.09</td>\n",
       "      <td>AU</td>\n",
       "      <td>1614899816</td>\n",
       "    </tr>\n",
       "    <tr>\n",
       "      <th>3</th>\n",
       "      <td>Zhangaözen</td>\n",
       "      <td>43.3000</td>\n",
       "      <td>52.8000</td>\n",
       "      <td>273.06</td>\n",
       "      <td>94</td>\n",
       "      <td>0</td>\n",
       "      <td>2.65</td>\n",
       "      <td>KZ</td>\n",
       "      <td>1614900025</td>\n",
       "    </tr>\n",
       "    <tr>\n",
       "      <th>4</th>\n",
       "      <td>Salalah</td>\n",
       "      <td>17.0151</td>\n",
       "      <td>54.0924</td>\n",
       "      <td>296.15</td>\n",
       "      <td>56</td>\n",
       "      <td>0</td>\n",
       "      <td>0.83</td>\n",
       "      <td>OM</td>\n",
       "      <td>1614900027</td>\n",
       "    </tr>\n",
       "  </tbody>\n",
       "</table>\n",
       "</div>"
      ],
      "text/plain": [
       "         City      Lat       Lon  Max Temp  Humidity  Cloudiness  Wind Speed  \\\n",
       "0   Kavaratti  10.5669   72.6420    301.15        55           0        1.54   \n",
       "1       Søgne  58.0833    7.8167    274.26        51           0        1.54   \n",
       "2   Carnarvon -24.8667  113.6333    294.15       100          22        3.09   \n",
       "3  Zhangaözen  43.3000   52.8000    273.06        94           0        2.65   \n",
       "4     Salalah  17.0151   54.0924    296.15        56           0        0.83   \n",
       "\n",
       "  Country        Date  \n",
       "0      IN  1614900019  \n",
       "1      NO  1614900021  \n",
       "2      AU  1614899816  \n",
       "3      KZ  1614900025  \n",
       "4      OM  1614900027  "
      ]
     },
     "execution_count": 5,
     "metadata": {},
     "output_type": "execute_result"
    }
   ],
   "source": [
    "weather_df = pd.DataFrame({\n",
    "    'City' : city_name,\n",
    "    'Lat' : lat,\n",
    "    'Lon' : lng,\n",
    "    'Max Temp' : max_temp,\n",
    "    'Humidity' : humidity,\n",
    "    'Cloudiness' : cloudiness, \n",
    "    'Wind Speed' : wind_speed,\n",
    "    'Country' : country,\n",
    "    'Date' : date,\n",
    "})\n",
    "\n",
    "weather_df.head()"
   ]
  },
  {
   "cell_type": "code",
   "execution_count": 6,
   "metadata": {
    "scrolled": true
   },
   "outputs": [
    {
     "data": {
      "text/html": [
       "<div>\n",
       "<style scoped>\n",
       "    .dataframe tbody tr th:only-of-type {\n",
       "        vertical-align: middle;\n",
       "    }\n",
       "\n",
       "    .dataframe tbody tr th {\n",
       "        vertical-align: top;\n",
       "    }\n",
       "\n",
       "    .dataframe thead th {\n",
       "        text-align: right;\n",
       "    }\n",
       "</style>\n",
       "<table border=\"1\" class=\"dataframe\">\n",
       "  <thead>\n",
       "    <tr style=\"text-align: right;\">\n",
       "      <th></th>\n",
       "      <th>Lat</th>\n",
       "    </tr>\n",
       "  </thead>\n",
       "  <tbody>\n",
       "    <tr>\n",
       "      <th>count</th>\n",
       "      <td>580.000000</td>\n",
       "    </tr>\n",
       "    <tr>\n",
       "      <th>mean</th>\n",
       "      <td>21.204814</td>\n",
       "    </tr>\n",
       "    <tr>\n",
       "      <th>std</th>\n",
       "      <td>33.054304</td>\n",
       "    </tr>\n",
       "    <tr>\n",
       "      <th>min</th>\n",
       "      <td>-54.800000</td>\n",
       "    </tr>\n",
       "    <tr>\n",
       "      <th>25%</th>\n",
       "      <td>-4.286250</td>\n",
       "    </tr>\n",
       "    <tr>\n",
       "      <th>50%</th>\n",
       "      <td>26.590100</td>\n",
       "    </tr>\n",
       "    <tr>\n",
       "      <th>75%</th>\n",
       "      <td>48.050275</td>\n",
       "    </tr>\n",
       "    <tr>\n",
       "      <th>max</th>\n",
       "      <td>78.218600</td>\n",
       "    </tr>\n",
       "  </tbody>\n",
       "</table>\n",
       "</div>"
      ],
      "text/plain": [
       "              Lat\n",
       "count  580.000000\n",
       "mean    21.204814\n",
       "std     33.054304\n",
       "min    -54.800000\n",
       "25%     -4.286250\n",
       "50%     26.590100\n",
       "75%     48.050275\n",
       "max     78.218600"
      ]
     },
     "execution_count": 6,
     "metadata": {},
     "output_type": "execute_result"
    }
   ],
   "source": [
    "#do summary statistics on latitude to ensure a good sample distribution use .describe()\n",
    "\n",
    "summary_stats_df = weather_df.describe()\n",
    "summary_stats_df[['Lat']]"
   ]
  },
  {
   "cell_type": "markdown",
   "metadata": {},
   "source": [
    "## Inspect the data and remove the cities where the humidity > 100%.\n",
    "----\n",
    "Skip this step if there are no cities that have humidity > 100%. "
   ]
  },
  {
   "cell_type": "code",
   "execution_count": 7,
   "metadata": {},
   "outputs": [
    {
     "data": {
      "text/html": [
       "<div>\n",
       "<style scoped>\n",
       "    .dataframe tbody tr th:only-of-type {\n",
       "        vertical-align: middle;\n",
       "    }\n",
       "\n",
       "    .dataframe tbody tr th {\n",
       "        vertical-align: top;\n",
       "    }\n",
       "\n",
       "    .dataframe thead th {\n",
       "        text-align: right;\n",
       "    }\n",
       "</style>\n",
       "<table border=\"1\" class=\"dataframe\">\n",
       "  <thead>\n",
       "    <tr style=\"text-align: right;\">\n",
       "      <th></th>\n",
       "      <th>City</th>\n",
       "      <th>Lat</th>\n",
       "      <th>Lon</th>\n",
       "      <th>Max Temp</th>\n",
       "      <th>Humidity</th>\n",
       "      <th>Cloudiness</th>\n",
       "      <th>Wind Speed</th>\n",
       "      <th>Country</th>\n",
       "      <th>Date</th>\n",
       "    </tr>\n",
       "  </thead>\n",
       "  <tbody>\n",
       "    <tr>\n",
       "      <th>360</th>\n",
       "      <td>Seoul</td>\n",
       "      <td>37.5683</td>\n",
       "      <td>126.9778</td>\n",
       "      <td>274.15</td>\n",
       "      <td>100</td>\n",
       "      <td>0</td>\n",
       "      <td>1.54</td>\n",
       "      <td>KR</td>\n",
       "      <td>1614900665</td>\n",
       "    </tr>\n",
       "    <tr>\n",
       "      <th>491</th>\n",
       "      <td>Mutoko</td>\n",
       "      <td>-17.3970</td>\n",
       "      <td>32.2268</td>\n",
       "      <td>290.32</td>\n",
       "      <td>100</td>\n",
       "      <td>100</td>\n",
       "      <td>1.15</td>\n",
       "      <td>ZW</td>\n",
       "      <td>1614901163</td>\n",
       "    </tr>\n",
       "    <tr>\n",
       "      <th>2</th>\n",
       "      <td>Carnarvon</td>\n",
       "      <td>-24.8667</td>\n",
       "      <td>113.6333</td>\n",
       "      <td>294.15</td>\n",
       "      <td>100</td>\n",
       "      <td>22</td>\n",
       "      <td>3.09</td>\n",
       "      <td>AU</td>\n",
       "      <td>1614899816</td>\n",
       "    </tr>\n",
       "    <tr>\n",
       "      <th>295</th>\n",
       "      <td>Saint-François</td>\n",
       "      <td>46.4154</td>\n",
       "      <td>3.9054</td>\n",
       "      <td>278.71</td>\n",
       "      <td>100</td>\n",
       "      <td>21</td>\n",
       "      <td>0.87</td>\n",
       "      <td>FR</td>\n",
       "      <td>1614900694</td>\n",
       "    </tr>\n",
       "    <tr>\n",
       "      <th>87</th>\n",
       "      <td>Bereda</td>\n",
       "      <td>43.2686</td>\n",
       "      <td>-7.5406</td>\n",
       "      <td>282.04</td>\n",
       "      <td>100</td>\n",
       "      <td>66</td>\n",
       "      <td>2.24</td>\n",
       "      <td>ES</td>\n",
       "      <td>1614900213</td>\n",
       "    </tr>\n",
       "    <tr>\n",
       "      <th>...</th>\n",
       "      <td>...</td>\n",
       "      <td>...</td>\n",
       "      <td>...</td>\n",
       "      <td>...</td>\n",
       "      <td>...</td>\n",
       "      <td>...</td>\n",
       "      <td>...</td>\n",
       "      <td>...</td>\n",
       "      <td>...</td>\n",
       "    </tr>\n",
       "    <tr>\n",
       "      <th>565</th>\n",
       "      <td>Navrongo</td>\n",
       "      <td>10.8956</td>\n",
       "      <td>-1.0921</td>\n",
       "      <td>302.70</td>\n",
       "      <td>14</td>\n",
       "      <td>23</td>\n",
       "      <td>1.95</td>\n",
       "      <td>GH</td>\n",
       "      <td>1614901337</td>\n",
       "    </tr>\n",
       "    <tr>\n",
       "      <th>196</th>\n",
       "      <td>Mount Isa</td>\n",
       "      <td>-20.7333</td>\n",
       "      <td>139.5000</td>\n",
       "      <td>301.15</td>\n",
       "      <td>13</td>\n",
       "      <td>9</td>\n",
       "      <td>3.60</td>\n",
       "      <td>AU</td>\n",
       "      <td>1614900470</td>\n",
       "    </tr>\n",
       "    <tr>\n",
       "      <th>539</th>\n",
       "      <td>Alice Springs</td>\n",
       "      <td>-23.7000</td>\n",
       "      <td>133.8833</td>\n",
       "      <td>303.71</td>\n",
       "      <td>11</td>\n",
       "      <td>0</td>\n",
       "      <td>6.69</td>\n",
       "      <td>AU</td>\n",
       "      <td>1614901193</td>\n",
       "    </tr>\n",
       "    <tr>\n",
       "      <th>143</th>\n",
       "      <td>Jiménez</td>\n",
       "      <td>28.3333</td>\n",
       "      <td>-105.4000</td>\n",
       "      <td>301.15</td>\n",
       "      <td>10</td>\n",
       "      <td>75</td>\n",
       "      <td>10.29</td>\n",
       "      <td>MX</td>\n",
       "      <td>1614900339</td>\n",
       "    </tr>\n",
       "    <tr>\n",
       "      <th>313</th>\n",
       "      <td>Ventosa</td>\n",
       "      <td>39.1270</td>\n",
       "      <td>-9.0842</td>\n",
       "      <td>284.82</td>\n",
       "      <td>3</td>\n",
       "      <td>100</td>\n",
       "      <td>1.74</td>\n",
       "      <td>PT</td>\n",
       "      <td>1614900738</td>\n",
       "    </tr>\n",
       "  </tbody>\n",
       "</table>\n",
       "<p>580 rows × 9 columns</p>\n",
       "</div>"
      ],
      "text/plain": [
       "               City      Lat       Lon  Max Temp  Humidity  Cloudiness  \\\n",
       "360           Seoul  37.5683  126.9778    274.15       100           0   \n",
       "491          Mutoko -17.3970   32.2268    290.32       100         100   \n",
       "2         Carnarvon -24.8667  113.6333    294.15       100          22   \n",
       "295  Saint-François  46.4154    3.9054    278.71       100          21   \n",
       "87           Bereda  43.2686   -7.5406    282.04       100          66   \n",
       "..              ...      ...       ...       ...       ...         ...   \n",
       "565        Navrongo  10.8956   -1.0921    302.70        14          23   \n",
       "196       Mount Isa -20.7333  139.5000    301.15        13           9   \n",
       "539   Alice Springs -23.7000  133.8833    303.71        11           0   \n",
       "143         Jiménez  28.3333 -105.4000    301.15        10          75   \n",
       "313         Ventosa  39.1270   -9.0842    284.82         3         100   \n",
       "\n",
       "     Wind Speed Country        Date  \n",
       "360        1.54      KR  1614900665  \n",
       "491        1.15      ZW  1614901163  \n",
       "2          3.09      AU  1614899816  \n",
       "295        0.87      FR  1614900694  \n",
       "87         2.24      ES  1614900213  \n",
       "..          ...     ...         ...  \n",
       "565        1.95      GH  1614901337  \n",
       "196        3.60      AU  1614900470  \n",
       "539        6.69      AU  1614901193  \n",
       "143       10.29      MX  1614900339  \n",
       "313        1.74      PT  1614900738  \n",
       "\n",
       "[580 rows x 9 columns]"
      ]
     },
     "execution_count": 7,
     "metadata": {},
     "output_type": "execute_result"
    }
   ],
   "source": [
    "#sort descending to check if there are humidity values greater than 100\n",
    "\n",
    "weather_df.sort_values(by=['Humidity'], ascending = False)"
   ]
  },
  {
   "cell_type": "code",
   "execution_count": 8,
   "metadata": {},
   "outputs": [],
   "source": [
    "#if greater than 100\n",
    "#max_humidity = 100\n",
    "#weather_df.drop(weather_df.loc[weather_df['Humidity'] > 'max_humidity'].index, inplace=True)\n",
    "\n",
    "#  Get the indices of cities that have humidity over 100%.\n"
   ]
  },
  {
   "cell_type": "code",
   "execution_count": 9,
   "metadata": {},
   "outputs": [],
   "source": [
    "# Make a new DataFrame equal to the city data to drop all humidity outliers by index.\n",
    "# Passing \"inplace=False\" will make a copy of the city_data DataFrame, which we call \"clean_city_data\".\n"
   ]
  },
  {
   "cell_type": "code",
   "execution_count": null,
   "metadata": {},
   "outputs": [],
   "source": [
    "\n"
   ]
  },
  {
   "cell_type": "markdown",
   "metadata": {},
   "source": [
    "## Plotting the Data\n",
    "* Use proper labeling of the plots using plot titles (including date of analysis) and axes labels.\n",
    "* Save the plotted figures as .pngs."
   ]
  },
  {
   "cell_type": "markdown",
   "metadata": {},
   "source": [
    "## Latitude vs. Temperature Plot"
   ]
  },
  {
   "cell_type": "code",
   "execution_count": 10,
   "metadata": {
    "scrolled": true
   },
   "outputs": [
    {
     "data": {
      "image/png": "[encoded data removed]",
      "text/plain": [
       "<Figure size 432x288 with 1 Axes>"
      ]
     },
     "metadata": {
      "needs_background": "light"
     },
     "output_type": "display_data"
    }
   ],
   "source": [
    "plt.scatter(weather_df['Lat'], weather_df['Max Temp'])\n",
    "plt.title('Relationship of Latitude and Max Temperature')\n",
    "plt.xlabel('Latitude')\n",
    "plt.ylabel('Maximum Temperature')\n",
    "\n",
    "plt.show()"
   ]
  },
  {
   "cell_type": "markdown",
   "metadata": {},
   "source": [
    "## Latitude vs. Humidity Plot"
   ]
  },
  {
   "cell_type": "code",
   "execution_count": 11,
   "metadata": {},
   "outputs": [
    {
     "data": {
      "image/png": "[encoded data removed]",
      "text/plain": [
       "<Figure size 432x288 with 1 Axes>"
      ]
     },
     "metadata": {
      "needs_background": "light"
     },
     "output_type": "display_data"
    }
   ],
   "source": [
    "plt.scatter(weather_df['Lat'], weather_df['Humidity'])\n",
    "plt.title('Relationship of Latitude and Humidity')\n",
    "plt.xlabel('Latitude')\n",
    "plt.ylabel('Humidity (%)')\n",
    "\n",
    "plt.show()"
   ]
  },
  {
   "cell_type": "markdown",
   "metadata": {},
   "source": [
    "## Latitude vs. Cloudiness Plot"
   ]
  },
  {
   "cell_type": "code",
   "execution_count": 12,
   "metadata": {},
   "outputs": [
    {
     "data": {
      "image/png": "[encoded data removed]",
      "text/plain": [
       "<Figure size 432x288 with 1 Axes>"
      ]
     },
     "metadata": {
      "needs_background": "light"
     },
     "output_type": "display_data"
    }
   ],
   "source": [
    "plt.scatter(weather_df['Lat'], weather_df['Cloudiness'])\n",
    "plt.title('Relationship of Latitude and Cloudiness')\n",
    "plt.xlabel('Latitude')\n",
    "plt.ylabel('Cloudiness')\n",
    "\n",
    "plt.show()"
   ]
  },
  {
   "cell_type": "markdown",
   "metadata": {},
   "source": [
    "## Latitude vs. Wind Speed Plot"
   ]
  },
  {
   "cell_type": "code",
   "execution_count": 13,
   "metadata": {},
   "outputs": [
    {
     "data": {
      "image/png": "[encoded data removed]",
      "text/plain": [
       "<Figure size 432x288 with 1 Axes>"
      ]
     },
     "metadata": {
      "needs_background": "light"
     },
     "output_type": "display_data"
    }
   ],
   "source": [
    "plt.scatter(weather_df['Lat'], weather_df['Wind Speed'])\n",
    "plt.title('Relationship of Latitude and Wind Speed')\n",
    "plt.xlabel('Latitude')\n",
    "plt.ylabel('Wind Speed')\n",
    "\n",
    "plt.show()"
   ]
  },
  {
   "cell_type": "markdown",
   "metadata": {},
   "source": [
    "## Linear Regression"
   ]
  },
  {
   "cell_type": "markdown",
   "metadata": {},
   "source": [
    "####  Northern Hemisphere - Max Temp vs. Latitude Linear Regression"
   ]
  },
  {
   "cell_type": "code",
   "execution_count": 14,
   "metadata": {},
   "outputs": [
    {
     "data": {
      "text/html": [
       "<div>\n",
       "<style scoped>\n",
       "    .dataframe tbody tr th:only-of-type {\n",
       "        vertical-align: middle;\n",
       "    }\n",
       "\n",
       "    .dataframe tbody tr th {\n",
       "        vertical-align: top;\n",
       "    }\n",
       "\n",
       "    .dataframe thead th {\n",
       "        text-align: right;\n",
       "    }\n",
       "</style>\n",
       "<table border=\"1\" class=\"dataframe\">\n",
       "  <thead>\n",
       "    <tr style=\"text-align: right;\">\n",
       "      <th></th>\n",
       "      <th>City</th>\n",
       "      <th>Lat</th>\n",
       "      <th>Lon</th>\n",
       "      <th>Max Temp</th>\n",
       "      <th>Humidity</th>\n",
       "      <th>Cloudiness</th>\n",
       "      <th>Wind Speed</th>\n",
       "      <th>Country</th>\n",
       "      <th>Date</th>\n",
       "    </tr>\n",
       "  </thead>\n",
       "  <tbody>\n",
       "    <tr>\n",
       "      <th>0</th>\n",
       "      <td>Kavaratti</td>\n",
       "      <td>10.5669</td>\n",
       "      <td>72.6420</td>\n",
       "      <td>301.15</td>\n",
       "      <td>55</td>\n",
       "      <td>0</td>\n",
       "      <td>1.54</td>\n",
       "      <td>IN</td>\n",
       "      <td>1614900019</td>\n",
       "    </tr>\n",
       "    <tr>\n",
       "      <th>1</th>\n",
       "      <td>Søgne</td>\n",
       "      <td>58.0833</td>\n",
       "      <td>7.8167</td>\n",
       "      <td>274.26</td>\n",
       "      <td>51</td>\n",
       "      <td>0</td>\n",
       "      <td>1.54</td>\n",
       "      <td>NO</td>\n",
       "      <td>1614900021</td>\n",
       "    </tr>\n",
       "    <tr>\n",
       "      <th>3</th>\n",
       "      <td>Zhangaözen</td>\n",
       "      <td>43.3000</td>\n",
       "      <td>52.8000</td>\n",
       "      <td>273.06</td>\n",
       "      <td>94</td>\n",
       "      <td>0</td>\n",
       "      <td>2.65</td>\n",
       "      <td>KZ</td>\n",
       "      <td>1614900025</td>\n",
       "    </tr>\n",
       "    <tr>\n",
       "      <th>4</th>\n",
       "      <td>Salalah</td>\n",
       "      <td>17.0151</td>\n",
       "      <td>54.0924</td>\n",
       "      <td>296.15</td>\n",
       "      <td>56</td>\n",
       "      <td>0</td>\n",
       "      <td>0.83</td>\n",
       "      <td>OM</td>\n",
       "      <td>1614900027</td>\n",
       "    </tr>\n",
       "    <tr>\n",
       "      <th>5</th>\n",
       "      <td>Khatanga</td>\n",
       "      <td>71.9667</td>\n",
       "      <td>102.5000</td>\n",
       "      <td>240.46</td>\n",
       "      <td>77</td>\n",
       "      <td>0</td>\n",
       "      <td>5.34</td>\n",
       "      <td>RU</td>\n",
       "      <td>1614900028</td>\n",
       "    </tr>\n",
       "  </tbody>\n",
       "</table>\n",
       "</div>"
      ],
      "text/plain": [
       "         City      Lat       Lon  Max Temp  Humidity  Cloudiness  Wind Speed  \\\n",
       "0   Kavaratti  10.5669   72.6420    301.15        55           0        1.54   \n",
       "1       Søgne  58.0833    7.8167    274.26        51           0        1.54   \n",
       "3  Zhangaözen  43.3000   52.8000    273.06        94           0        2.65   \n",
       "4     Salalah  17.0151   54.0924    296.15        56           0        0.83   \n",
       "5    Khatanga  71.9667  102.5000    240.46        77           0        5.34   \n",
       "\n",
       "  Country        Date  \n",
       "0      IN  1614900019  \n",
       "1      NO  1614900021  \n",
       "3      KZ  1614900025  \n",
       "4      OM  1614900027  \n",
       "5      RU  1614900028  "
      ]
     },
     "execution_count": 14,
     "metadata": {},
     "output_type": "execute_result"
    }
   ],
   "source": [
    "#split up data frame by the latitude value \n",
    "lat_val=0\n",
    "north_weather = weather_df[weather_df['Lat'] >=0]\n",
    "north_weather.head()"
   ]
  },
  {
   "cell_type": "code",
   "execution_count": 15,
   "metadata": {},
   "outputs": [
    {
     "name": "stdout",
     "output_type": "stream",
     "text": [
      "y=-1.0x +319.95\n"
     ]
    }
   ],
   "source": [
    "x = north_weather['Max Temp']\n",
    "y = north_weather['Lat']\n",
    "\n",
    "(slope, intercept, rvalue, pvalue, stderr)= linregress(x, y)\n",
    "regress_values= x * slope + intercept\n",
    "\n",
    "line_eq = \"y=\" + str(round(slope,2)) + \"x +\" + str(round(intercept, 2))\n",
    "\n",
    "print(line_eq)"
   ]
  },
  {
   "cell_type": "code",
   "execution_count": 16,
   "metadata": {},
   "outputs": [
    {
     "data": {
      "text/plain": [
       "<function matplotlib.pyplot.show(close=None, block=None)>"
      ]
     },
     "execution_count": 16,
     "metadata": {},
     "output_type": "execute_result"
    },
    {
     "data": {
      "image/png": "[encoded data removed]",
      "text/plain": [
       "<Figure size 432x288 with 1 Axes>"
      ]
     },
     "metadata": {
      "needs_background": "light"
     },
     "output_type": "display_data"
    }
   ],
   "source": [
    "plt.scatter(x,y)\n",
    "plt.plot(x, regress_values, \"r\")\n",
    "\n",
    "#plt.annotate(line_eq, (240,20), fontsize = 10)\n",
    "\n",
    "plt.title('Correlation of Maximum Temperature and Latitude (Northern Hemisphere)')\n",
    "plt.xlabel('Maximum Temperature (Degrees)')\n",
    "plt.ylabel('Latitude')\n",
    "plt.show"
   ]
  },
  {
   "cell_type": "markdown",
   "metadata": {},
   "source": [
    "####  Southern Hemisphere - Max Temp vs. Latitude Linear Regression"
   ]
  },
  {
   "cell_type": "code",
   "execution_count": 17,
   "metadata": {},
   "outputs": [
    {
     "data": {
      "text/html": [
       "<div>\n",
       "<style scoped>\n",
       "    .dataframe tbody tr th:only-of-type {\n",
       "        vertical-align: middle;\n",
       "    }\n",
       "\n",
       "    .dataframe tbody tr th {\n",
       "        vertical-align: top;\n",
       "    }\n",
       "\n",
       "    .dataframe thead th {\n",
       "        text-align: right;\n",
       "    }\n",
       "</style>\n",
       "<table border=\"1\" class=\"dataframe\">\n",
       "  <thead>\n",
       "    <tr style=\"text-align: right;\">\n",
       "      <th></th>\n",
       "      <th>City</th>\n",
       "      <th>Lat</th>\n",
       "      <th>Lon</th>\n",
       "      <th>Max Temp</th>\n",
       "      <th>Humidity</th>\n",
       "      <th>Cloudiness</th>\n",
       "      <th>Wind Speed</th>\n",
       "      <th>Country</th>\n",
       "      <th>Date</th>\n",
       "    </tr>\n",
       "  </thead>\n",
       "  <tbody>\n",
       "    <tr>\n",
       "      <th>2</th>\n",
       "      <td>Carnarvon</td>\n",
       "      <td>-24.8667</td>\n",
       "      <td>113.6333</td>\n",
       "      <td>294.15</td>\n",
       "      <td>100</td>\n",
       "      <td>22</td>\n",
       "      <td>3.09</td>\n",
       "      <td>AU</td>\n",
       "      <td>1614899816</td>\n",
       "    </tr>\n",
       "    <tr>\n",
       "      <th>6</th>\n",
       "      <td>Arraial do Cabo</td>\n",
       "      <td>-22.9661</td>\n",
       "      <td>-42.0278</td>\n",
       "      <td>298.69</td>\n",
       "      <td>84</td>\n",
       "      <td>27</td>\n",
       "      <td>9.57</td>\n",
       "      <td>BR</td>\n",
       "      <td>1614899850</td>\n",
       "    </tr>\n",
       "    <tr>\n",
       "      <th>7</th>\n",
       "      <td>Busselton</td>\n",
       "      <td>-33.6500</td>\n",
       "      <td>115.3333</td>\n",
       "      <td>292.59</td>\n",
       "      <td>99</td>\n",
       "      <td>94</td>\n",
       "      <td>4.19</td>\n",
       "      <td>AU</td>\n",
       "      <td>1614900032</td>\n",
       "    </tr>\n",
       "    <tr>\n",
       "      <th>9</th>\n",
       "      <td>Atuona</td>\n",
       "      <td>-9.8000</td>\n",
       "      <td>-139.0333</td>\n",
       "      <td>299.77</td>\n",
       "      <td>75</td>\n",
       "      <td>1</td>\n",
       "      <td>5.92</td>\n",
       "      <td>PF</td>\n",
       "      <td>1614900037</td>\n",
       "    </tr>\n",
       "    <tr>\n",
       "      <th>10</th>\n",
       "      <td>Mossamedes</td>\n",
       "      <td>-15.1961</td>\n",
       "      <td>12.1522</td>\n",
       "      <td>297.05</td>\n",
       "      <td>79</td>\n",
       "      <td>71</td>\n",
       "      <td>0.24</td>\n",
       "      <td>AO</td>\n",
       "      <td>1614900040</td>\n",
       "    </tr>\n",
       "  </tbody>\n",
       "</table>\n",
       "</div>"
      ],
      "text/plain": [
       "               City      Lat       Lon  Max Temp  Humidity  Cloudiness  \\\n",
       "2         Carnarvon -24.8667  113.6333    294.15       100          22   \n",
       "6   Arraial do Cabo -22.9661  -42.0278    298.69        84          27   \n",
       "7         Busselton -33.6500  115.3333    292.59        99          94   \n",
       "9            Atuona  -9.8000 -139.0333    299.77        75           1   \n",
       "10       Mossamedes -15.1961   12.1522    297.05        79          71   \n",
       "\n",
       "    Wind Speed Country        Date  \n",
       "2         3.09      AU  1614899816  \n",
       "6         9.57      BR  1614899850  \n",
       "7         4.19      AU  1614900032  \n",
       "9         5.92      PF  1614900037  \n",
       "10        0.24      AO  1614900040  "
      ]
     },
     "execution_count": 17,
     "metadata": {},
     "output_type": "execute_result"
    }
   ],
   "source": [
    "south_weather = weather_df[weather_df['Lat'] < 0]\n",
    "south_weather.head()"
   ]
  },
  {
   "cell_type": "code",
   "execution_count": 18,
   "metadata": {},
   "outputs": [
    {
     "name": "stdout",
     "output_type": "stream",
     "text": [
      "y=2.14x +-656.54\n"
     ]
    }
   ],
   "source": [
    "x = south_weather['Max Temp']\n",
    "y = south_weather['Lat']\n",
    "\n",
    "(slope, intercept, rvalue, pvalue, stderr)= linregress(x, y)\n",
    "regress_values= x * slope + intercept\n",
    "\n",
    "line_eq = \"y=\" + str(round(slope,2)) + \"x +\" + str(round(intercept, 2))\n",
    "\n",
    "print(line_eq)"
   ]
  },
  {
   "cell_type": "code",
   "execution_count": 19,
   "metadata": {},
   "outputs": [
    {
     "data": {
      "text/plain": [
       "<function matplotlib.pyplot.show(close=None, block=None)>"
      ]
     },
     "execution_count": 19,
     "metadata": {},
     "output_type": "execute_result"
    },
    {
     "data": {
      "image/png": "[encoded data removed]",
      "text/plain": [
       "<Figure size 432x288 with 1 Axes>"
      ]
     },
     "metadata": {
      "needs_background": "light"
     },
     "output_type": "display_data"
    }
   ],
   "source": [
    "plt.scatter(x,y)\n",
    "plt.plot(x, regress_values, \"r\")\n",
    "\n",
    "#plt.annotate(line_eq, (240,20), fontsize = 10)\n",
    "\n",
    "plt.title('Correlation of Maximum Temperature and Latitude (Southern Hemisphere)')\n",
    "plt.xlabel('Maximum Temperature (Degrees)')\n",
    "plt.ylabel('Latitude')\n",
    "plt.show"
   ]
  },
  {
   "cell_type": "markdown",
   "metadata": {},
   "source": [
    "####  Northern Hemisphere - Humidity (%) vs. Latitude Linear Regression"
   ]
  },
  {
   "cell_type": "code",
   "execution_count": 20,
   "metadata": {},
   "outputs": [
    {
     "data": {
      "text/plain": [
       "<function matplotlib.pyplot.show(close=None, block=None)>"
      ]
     },
     "execution_count": 20,
     "metadata": {},
     "output_type": "execute_result"
    },
    {
     "data": {
      "image/png": "[encoded data removed]",
      "text/plain": [
       "<Figure size 432x288 with 1 Axes>"
      ]
     },
     "metadata": {
      "needs_background": "light"
     },
     "output_type": "display_data"
    }
   ],
   "source": [
    "x = north_weather['Humidity']\n",
    "y = north_weather['Lat']\n",
    "\n",
    "(slope, intercept, rvalue, pvalue, stderr)= linregress(x, y)\n",
    "regress_values= x * slope + intercept\n",
    "\n",
    "line_eq = \"y=\" + str(round(slope,2)) + \"x +\" + str(round(intercept, 2))\n",
    "\n",
    "plt.scatter(x,y)\n",
    "plt.plot(x, regress_values, \"r\")\n",
    "\n",
    "#plt.annotate(line_eq, (240,20), fontsize = 10)\n",
    "\n",
    "plt.title('Correlation of Humidity and Latitude (Northern Hemisphere)')\n",
    "plt.xlabel('Humidity %')\n",
    "plt.ylabel('Latitude')\n",
    "plt.show"
   ]
  },
  {
   "cell_type": "markdown",
   "metadata": {},
   "source": [
    "####  Southern Hemisphere - Humidity (%) vs. Latitude Linear Regression"
   ]
  },
  {
   "cell_type": "code",
   "execution_count": 21,
   "metadata": {},
   "outputs": [
    {
     "data": {
      "text/plain": [
       "<function matplotlib.pyplot.show(close=None, block=None)>"
      ]
     },
     "execution_count": 21,
     "metadata": {},
     "output_type": "execute_result"
    },
    {
     "data": {
      "image/png": "[encoded data removed]",
      "text/plain": [
       "<Figure size 432x288 with 1 Axes>"
      ]
     },
     "metadata": {
      "needs_background": "light"
     },
     "output_type": "display_data"
    }
   ],
   "source": [
    "x = south_weather['Humidity']\n",
    "y = south_weather['Lat']\n",
    "\n",
    "(slope, intercept, rvalue, pvalue, stderr)= linregress(x, y)\n",
    "regress_values= x * slope + intercept\n",
    "\n",
    "line_eq = \"y=\" + str(round(slope,2)) + \"x +\" + str(round(intercept, 2))\n",
    "\n",
    "plt.scatter(x,y)\n",
    "plt.plot(x, regress_values, \"r\")\n",
    "\n",
    "#plt.annotate(line_eq, (240,20), fontsize = 10)\n",
    "\n",
    "plt.title('Correlation of Humidity and Latitude (Southern Hemisphere)')\n",
    "plt.xlabel('Humidity %')\n",
    "plt.ylabel('Latitude')\n",
    "plt.show"
   ]
  },
  {
   "cell_type": "markdown",
   "metadata": {},
   "source": [
    "####  Northern Hemisphere - Cloudiness (%) vs. Latitude Linear Regression"
   ]
  },
  {
   "cell_type": "code",
   "execution_count": 22,
   "metadata": {},
   "outputs": [
    {
     "data": {
      "text/plain": [
       "<function matplotlib.pyplot.show(close=None, block=None)>"
      ]
     },
     "execution_count": 22,
     "metadata": {},
     "output_type": "execute_result"
    },
    {
     "data": {
      "image/png": "[encoded data removed]",
      "text/plain": [
       "<Figure size 432x288 with 1 Axes>"
      ]
     },
     "metadata": {
      "needs_background": "light"
     },
     "output_type": "display_data"
    }
   ],
   "source": [
    "x = north_weather['Cloudiness']\n",
    "y = north_weather['Lat']\n",
    "\n",
    "(slope, intercept, rvalue, pvalue, stderr)= linregress(x, y)\n",
    "regress_values= x * slope + intercept\n",
    "\n",
    "line_eq = \"y=\" + str(round(slope,2)) + \"x +\" + str(round(intercept, 2))\n",
    "\n",
    "plt.scatter(x,y)\n",
    "plt.plot(x, regress_values, \"r\")\n",
    "\n",
    "#plt.annotate(line_eq, (240,20), fontsize = 10)\n",
    "\n",
    "plt.title('Correlation of Cloudiness and Latitude (Northern Hemisphere)')\n",
    "plt.xlabel('Cloudiness %')\n",
    "plt.ylabel('Latitude')\n",
    "plt.show"
   ]
  },
  {
   "cell_type": "markdown",
   "metadata": {},
   "source": [
    "####  Southern Hemisphere - Cloudiness (%) vs. Latitude Linear Regression"
   ]
  },
  {
   "cell_type": "code",
   "execution_count": 25,
   "metadata": {},
   "outputs": [
    {
     "data": {
      "text/plain": [
       "<function matplotlib.pyplot.show(close=None, block=None)>"
      ]
     },
     "execution_count": 25,
     "metadata": {},
     "output_type": "execute_result"
    },
    {
     "data": {
      "image/png": "[encoded data removed]",
      "text/plain": [
       "<Figure size 432x288 with 1 Axes>"
      ]
     },
     "metadata": {
      "needs_background": "light"
     },
     "output_type": "display_data"
    }
   ],
   "source": [
    "x = south_weather['Cloudiness']\n",
    "y = south_weather['Lat']\n",
    "\n",
    "(slope, intercept, rvalue, pvalue, stderr)= linregress(x, y)\n",
    "regress_values= x * slope + intercept\n",
    "\n",
    "line_eq = \"y=\" + str(round(slope,2)) + \"x +\" + str(round(intercept, 2))\n",
    "\n",
    "plt.scatter(x,y)\n",
    "plt.plot(x, regress_values, \"r\")\n",
    "\n",
    "#plt.annotate(line_eq, (240,20), fontsize = 10)\n",
    "\n",
    "plt.title('Correlation of Cloudiness and Latitude (Southern Hemisphere)')\n",
    "plt.xlabel('loudiness %')\n",
    "plt.ylabel('Latitude')\n",
    "plt.show"
   ]
  },
  {
   "cell_type": "markdown",
   "metadata": {},
   "source": [
    "####  Northern Hemisphere - Wind Speed (mph) vs. Latitude Linear Regression"
   ]
  },
  {
   "cell_type": "code",
   "execution_count": 26,
   "metadata": {},
   "outputs": [
    {
     "data": {
      "text/plain": [
       "<function matplotlib.pyplot.show(close=None, block=None)>"
      ]
     },
     "execution_count": 26,
     "metadata": {},
     "output_type": "execute_result"
    },
    {
     "data": {
      "image/png": "[encoded data removed]",
      "text/plain": [
       "<Figure size 432x288 with 1 Axes>"
      ]
     },
     "metadata": {
      "needs_background": "light"
     },
     "output_type": "display_data"
    }
   ],
   "source": [
    "x = north_weather['Wind Speed']\n",
    "y = north_weather['Lat']\n",
    "\n",
    "(slope, intercept, rvalue, pvalue, stderr)= linregress(x, y)\n",
    "regress_values= x * slope + intercept\n",
    "\n",
    "line_eq = \"y=\" + str(round(slope,2)) + \"x +\" + str(round(intercept, 2))\n",
    "\n",
    "plt.scatter(x,y)\n",
    "plt.plot(x, regress_values, \"r\")\n",
    "\n",
    "#plt.annotate(line_eq, (240,20), fontsize = 10)\n",
    "\n",
    "plt.title('Correlation of Wind Speed and Latitude (Northern Hemisphere)')\n",
    "plt.xlabel('Wind Speed')\n",
    "plt.ylabel('Latitude')\n",
    "plt.show"
   ]
  },
  {
   "cell_type": "markdown",
   "metadata": {},
   "source": [
    "####  Southern Hemisphere - Wind Speed (mph) vs. Latitude Linear Regression"
   ]
  },
  {
   "cell_type": "code",
   "execution_count": 27,
   "metadata": {},
   "outputs": [
    {
     "data": {
      "text/plain": [
       "<function matplotlib.pyplot.show(close=None, block=None)>"
      ]
     },
     "execution_count": 27,
     "metadata": {},
     "output_type": "execute_result"
    },
    {
     "data": {
      "image/png": "[encoded data removed]",
      "text/plain": [
       "<Figure size 432x288 with 1 Axes>"
      ]
     },
     "metadata": {
      "needs_background": "light"
     },
     "output_type": "display_data"
    }
   ],
   "source": [
    "x = south_weather['Wind Speed']\n",
    "y = south_weather['Lat']\n",
    "\n",
    "(slope, intercept, rvalue, pvalue, stderr)= linregress(x, y)\n",
    "regress_values= x * slope + intercept\n",
    "\n",
    "line_eq = \"y=\" + str(round(slope,2)) + \"x +\" + str(round(intercept, 2))\n",
    "\n",
    "plt.scatter(x,y)\n",
    "plt.plot(x, regress_values, \"r\")\n",
    "\n",
    "#plt.annotate(line_eq, (240,20), fontsize = 10)\n",
    "\n",
    "plt.title('Correlation of Wind Speed and Latitude (Southern Hemisphere)')\n",
    "plt.xlabel('Wind Speed')\n",
    "plt.ylabel('Latitude')\n",
    "plt.show"
   ]
  },
  {
   "cell_type": "code",
   "execution_count": null,
   "metadata": {},
   "outputs": [],
   "source": []
  }
 ],
 "metadata": {
  "anaconda-cloud": {},
  "kernel_info": {
   "name": "python3"
  },
  "kernelspec": {
   "display_name": "Python 3",
   "language": "python",
   "name": "python3"
  },
  "language_info": {
   "codemirror_mode": {
    "name": "ipython",
    "version": 3
   },
   "file_extension": ".py",
   "mimetype": "text/x-python",
   "name": "python",
   "nbconvert_exporter": "python",
   "pygments_lexer": "ipython3",
   "version": "3.8.5"
  },
  "latex_envs": {
   "LaTeX_envs_menu_present": true,
   "autoclose": false,
   "autocomplete": true,
   "bibliofile": "biblio.bib",
   "cite_by": "apalike",
   "current_citInitial": 1,
   "eqLabelWithNumbers": true,
   "eqNumInitial": 1,
   "hotkeys": {
    "equation": "Ctrl-E",
    "itemize": "Ctrl-I"
   },
   "labels_anchors": false,
   "latex_user_defs": false,
   "report_style_numbering": false,
   "user_envs_cfg": false
  },
  "nteract": {
   "version": "0.12.3"
  }
 },
 "nbformat": 4,
 "nbformat_minor": 4
}
