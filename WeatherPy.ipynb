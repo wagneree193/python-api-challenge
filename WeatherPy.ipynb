{
 "cells": [
  {
   "cell_type": "markdown",
   "metadata": {},
   "source": [
    "# WeatherPy\n",
    "----\n",
    "\n",
    "#### Note\n",
    "* Instructions have been included for each segment. You do not have to follow them exactly, but they are included to help you think through the steps."
   ]
  },
  {
   "cell_type": "code",
   "execution_count": 1,
   "metadata": {
    "scrolled": true
   },
   "outputs": [
    {
     "name": "stdout",
     "output_type": "stream",
     "text": [
      "Requirement already satisfied: matplotlib in c:\\users\\wagne\\anaconda3\\lib\\site-packages (3.3.2)\n",
      "Requirement already satisfied: pillow>=6.2.0 in c:\\users\\wagne\\anaconda3\\lib\\site-packages (from matplotlib) (8.0.1)\n",
      "Requirement already satisfied: numpy>=1.15 in c:\\users\\wagne\\anaconda3\\lib\\site-packages (from matplotlib) (1.19.2)\n",
      "Requirement already satisfied: certifi>=2020.06.20 in c:\\users\\wagne\\anaconda3\\lib\\site-packages (from matplotlib) (2020.6.20)\n",
      "Requirement already satisfied: pyparsing!=2.0.4,!=2.1.2,!=2.1.6,>=2.0.3 in c:\\users\\wagne\\anaconda3\\lib\\site-packages (from matplotlib) (2.4.7)\n",
      "Requirement already satisfied: cycler>=0.10 in c:\\users\\wagne\\anaconda3\\lib\\site-packages (from matplotlib) (0.10.0)\n",
      "Requirement already satisfied: python-dateutil>=2.1 in c:\\users\\wagne\\anaconda3\\lib\\site-packages (from matplotlib) (2.8.1)\n",
      "Requirement already satisfied: kiwisolver>=1.0.1 in c:\\users\\wagne\\anaconda3\\lib\\site-packages (from matplotlib) (1.3.0)\n",
      "Requirement already satisfied: six in c:\\users\\wagne\\anaconda3\\lib\\site-packages (from cycler>=0.10->matplotlib) (1.15.0)\n",
      "Requirement already satisfied: pandas in c:\\users\\wagne\\anaconda3\\lib\\site-packages (1.1.3)\n",
      "Requirement already satisfied: numpy>=1.15.4 in c:\\users\\wagne\\anaconda3\\lib\\site-packages (from pandas) (1.19.2)\n",
      "Requirement already satisfied: pytz>=2017.2 in c:\\users\\wagne\\anaconda3\\lib\\site-packages (from pandas) (2020.1)\n",
      "Requirement already satisfied: python-dateutil>=2.7.3 in c:\\users\\wagne\\anaconda3\\lib\\site-packages (from pandas) (2.8.1)\n",
      "Requirement already satisfied: six>=1.5 in c:\\users\\wagne\\anaconda3\\lib\\site-packages (from python-dateutil>=2.7.3->pandas) (1.15.0)\n",
      "Requirement already satisfied: numpy in c:\\users\\wagne\\anaconda3\\lib\\site-packages (1.19.2)\n",
      "Requirement already satisfied: requests in c:\\users\\wagne\\anaconda3\\lib\\site-packages (2.24.0)\n",
      "Requirement already satisfied: chardet<4,>=3.0.2 in c:\\users\\wagne\\anaconda3\\lib\\site-packages (from requests) (3.0.4)\n",
      "Requirement already satisfied: certifi>=2017.4.17 in c:\\users\\wagne\\anaconda3\\lib\\site-packages (from requests) (2020.6.20)\n",
      "Requirement already satisfied: idna<3,>=2.5 in c:\\users\\wagne\\anaconda3\\lib\\site-packages (from requests) (2.10)\n",
      "Requirement already satisfied: urllib3!=1.25.0,!=1.25.1,<1.26,>=1.21.1 in c:\\users\\wagne\\anaconda3\\lib\\site-packages (from requests) (1.25.11)\n",
      "Requirement already satisfied: citipy in c:\\users\\wagne\\anaconda3\\lib\\site-packages (0.0.5)\n",
      "Requirement already satisfied: kdtree>=0.12 in c:\\users\\wagne\\anaconda3\\lib\\site-packages (from citipy) (0.16)\n"
     ]
    }
   ],
   "source": [
    "# Dependencies and Setup\n",
    "!pip install matplotlib\n",
    "!pip install pandas\n",
    "!pip install numpy\n",
    "!pip install requests\n",
    "!pip install citipy\n",
    "import matplotlib.pyplot as plt\n",
    "import pandas as pd\n",
    "import numpy as np\n",
    "import requests\n",
    "import json\n",
    "import time\n",
    "from scipy.stats import linregress\n",
    "\n",
    "# Import API key\n",
    "from api_keys import weather_api_key\n",
    "\n",
    "# Incorporated citipy to determine city based on latitude and longitude\n",
    "from citipy import citipy\n",
    "\n",
    "# Output File (CSV)\n",
    "output_data_file = \"output_data/cities.csv\"\n",
    "\n",
    "# Range of latitudes and longitudes\n",
    "lat_range = (-90, 90)\n",
    "lng_range = (-180, 180)"
   ]
  },
  {
   "cell_type": "markdown",
   "metadata": {},
   "source": [
    "## Generate Cities List"
   ]
  },
  {
   "cell_type": "code",
   "execution_count": 2,
   "metadata": {},
   "outputs": [
    {
     "data": {
      "text/plain": [
       "627"
      ]
     },
     "execution_count": 2,
     "metadata": {},
     "output_type": "execute_result"
    }
   ],
   "source": [
    "# List for holding lat_lngs and cities\n",
    "lat_lngs = []\n",
    "cities = []\n",
    "\n",
    "# Create a set of random lat and lng combinations\n",
    "lats = np.random.uniform(lat_range[0], lat_range[1], size=1500)\n",
    "lngs = np.random.uniform(lng_range[0], lng_range[1], size=1500)\n",
    "lat_lngs = zip(lats, lngs)\n",
    "\n",
    "# Identify nearest city for each lat, lng combination\n",
    "for lat_lng in lat_lngs:\n",
    "    city = citipy.nearest_city(lat_lng[0], lat_lng[1]).city_name\n",
    "    \n",
    "    #use %20 in place of spaces to create URL\n",
    "    city = city.replace(\" \", \"%20\")\n",
    "    # If the city is unique, then add it to a our cities list\n",
    "    if city not in cities:\n",
    "        cities.append(city)\n",
    "\n",
    "# Print the city count to confirm sufficient count\n",
    "len(cities)"
   ]
  },
  {
   "cell_type": "markdown",
   "metadata": {},
   "source": [
    "### Perform API Calls\n",
    "* Perform a weather check on each city using a series of successive API calls.\n",
    "* Include a print log of each city as it'sbeing processed (with the city number and city name).\n"
   ]
  },
  {
   "cell_type": "code",
   "execution_count": 3,
   "metadata": {
    "scrolled": true
   },
   "outputs": [
    {
     "data": {
      "text/plain": [
       "'http://api.openweathermap.org/data/2.5/weather?appid=218661d74970b37f6e9ab6d5a6f76ec2&units=standard&q='"
      ]
     },
     "execution_count": 3,
     "metadata": {},
     "output_type": "execute_result"
    }
   ],
   "source": [
    "#define api key\n",
    "api_key = weather_api_key\n",
    "units = \"standard\"\n",
    "url = \"http://api.openweathermap.org/data/2.5/weather?\"\n",
    "query_url= f\"{url}appid={api_key}&units={units}&q=\"\n",
    "\n",
    "query_url\n",
    "    "
   ]
  },
  {
   "cell_type": "code",
   "execution_count": 4,
   "metadata": {},
   "outputs": [
    {
     "name": "stdout",
     "output_type": "stream",
     "text": [
      "urfa not found. Skipping...\n",
      "Processing 1| Hermanus\n",
      "Processing 2| Pavlohrad\n",
      "Processing 3| Korāput\n",
      "Processing 4| Punta Arenas\n",
      "attawapiskat not found. Skipping...\n",
      "Processing 5| Busselton\n",
      "Processing 6| Airai\n",
      "Processing 7| Rørvik\n",
      "Processing 8| Cosamaloapan\n",
      "Processing 9| Jamestown\n",
      "Processing 10| Beringovskiy\n",
      "Processing 11| Rikitea\n",
      "grand%20river%20south%20east not found. Skipping...\n",
      "Processing 12| Souillac\n",
      "Processing 13| Yeppoon\n",
      "Processing 14| Port Elizabeth\n",
      "Processing 15| Khatanga\n",
      "Processing 16| Puerto Ayora\n",
      "Processing 17| Marathon\n",
      "Processing 18| Butaritari\n",
      "Processing 19| Thinadhoo\n",
      "Processing 20| Nouadhibou\n",
      "Processing 21| Springbok\n",
      "Processing 22| Barrow\n",
      "Processing 23| Sandwick\n",
      "Processing 24| Kamenka\n",
      "Processing 25| Mizque\n",
      "illoqqortoormiut not found. Skipping...\n",
      "Processing 26| Qui Nhon\n",
      "Processing 27| Provideniya\n",
      "Processing 28| Bluff\n",
      "mys%20shmidta not found. Skipping...\n",
      "Processing 29| Dingle\n",
      "Processing 30| Acapulco de Juárez\n",
      "Processing 31| Hanzhong\n",
      "Processing 32| Hithadhoo\n",
      "Processing 33| Yellowknife\n",
      "Processing 34| Porto-Novo\n",
      "Processing 35| Ilulissat\n",
      "Processing 36| Tuktoyaktuk\n",
      "Processing 37| Mataura\n",
      "Processing 38| Severo-Kuril'sk\n",
      "Processing 39| Olafsvik\n",
      "Processing 40| Marawi\n",
      "Processing 41| Qaanaaq\n",
      "louisbourg not found. Skipping...\n",
      "Processing 42| Antofagasta\n",
      "Processing 43| East London\n",
      "Processing 44| Saskylakh\n",
      "Processing 45| Vaini\n",
      "Processing 46| Ostrovnoy\n",
      "Processing 47| Korla\n",
      "Processing 48| Chase\n",
      "tumannyy not found. Skipping...\n",
      "Processing 49| Bredasdorp\n",
      "Processing 50| Vila Franca do Campo\n",
      "Processing 51| Camopi\n",
      "Processing 52| Atar\n",
      "Processing 53| Oodweyne\n",
      "Processing 54| Akdepe\n",
      "Processing 55| Sinegor'ye\n",
      "nizhneyansk not found. Skipping...\n",
      "Processing 56| Avarua\n",
      "lokken%20verk not found. Skipping...\n",
      "Processing 57| Kozhva\n",
      "harigue not found. Skipping...\n",
      "Processing 58| Albany\n",
      "Processing 59| Atuona\n",
      "Processing 60| Ibirapitanga\n",
      "Processing 61| Thompson\n",
      "Processing 62| Ushuaia\n",
      "Processing 63| Tazovsky\n",
      "Processing 64| Hambantota\n",
      "Processing 65| Taganak\n",
      "Processing 66| Charters Towers\n",
      "Processing 67| Prymors'k\n",
      "amderma not found. Skipping...\n",
      "taolanaro not found. Skipping...\n",
      "Processing 68| Cape Town\n",
      "Processing 69| Halifax\n",
      "Processing 70| Ouallam\n",
      "Processing 71| Ladário\n",
      "Processing 72| Husavik\n",
      "Processing 73| Oistins\n",
      "Processing 74| Poum\n",
      "Processing 75| Mahébourg\n",
      "Processing 76| Omboué\n",
      "Processing 77| Luján\n",
      "Processing 78| Kununurra\n",
      "Processing 79| Shenandoah\n",
      "Processing 80| Gari\n",
      "Processing 81| Zhigansk\n",
      "Processing 82| Nikolskoye\n",
      "Processing 83| Rocha\n",
      "Processing 84| Bredy\n",
      "Processing 85| Clyde River\n",
      "Processing 86| Chokurdakh\n",
      "Processing 87| Santa Cruz de Tenerife\n",
      "Processing 88| Esim\n",
      "Processing 89| Hinton\n",
      "Processing 90| Hong Kong\n",
      "Processing 91| Faanui\n",
      "Processing 92| Shenjiamen\n",
      "Processing 93| Yulara\n",
      "Processing 94| Port Alfred\n",
      "Processing 95| Mehamn\n",
      "Processing 96| Esperance\n",
      "Processing 97| Andra\n",
      "Processing 98| Kiunga\n",
      "Processing 99| Itarema\n",
      "Processing 100| Kanniyākumāri\n",
      "Processing 101| Atasū\n",
      "Processing 102| Usogorsk\n",
      "Processing 103| Rovaniemi\n",
      "Processing 104| Geraldton\n",
      "Processing 105| Mukhen\n",
      "Processing 106| Hobart\n",
      "Processing 107| The Village\n",
      "Processing 108| Tambura\n",
      "Processing 109| Yangi Marg`ilon\n",
      "Processing 110| Dikson\n",
      "karamay not found. Skipping...\n",
      "Processing 111| São Paulo de Olivença\n",
      "Processing 112| Arman'\n",
      "Processing 113| Santa Vitória do Palmar\n",
      "Processing 114| Arlit\n",
      "umzimvubu not found. Skipping...\n",
      "Processing 115| Gouré\n",
      "Processing 116| Kieta\n",
      "Processing 117| Tamiahua\n",
      "Processing 118| New Norfolk\n",
      "Processing 119| Nakhon Thai\n",
      "Processing 120| Castro\n",
      "Processing 121| Tasiilaq\n",
      "Processing 122| Grand-Santi\n",
      "Processing 123| Puerto Escondido\n",
      "Processing 124| Cabo San Lucas\n",
      "cockburn%20harbour not found. Skipping...\n",
      "Processing 125| Codrington\n",
      "barentsburg not found. Skipping...\n",
      "Processing 126| Binzhou\n",
      "Processing 127| San Patricio\n",
      "Processing 128| Sines Municipality\n",
      "Processing 129| Khilok\n",
      "Processing 130| Ubari\n",
      "Processing 131| General Roca\n",
      "Processing 132| Upernavik\n",
      "Processing 133| Quatre Cocos\n",
      "buqayq not found. Skipping...\n",
      "Processing 134| Bokoro\n",
      "Processing 135| Hamilton\n",
      "Processing 136| Eidsvåg\n",
      "Processing 137| Hilo\n",
      "Processing 138| Ust-Tsilma\n",
      "Processing 139| Takoradze\n",
      "Processing 140| Saint George\n",
      "Processing 141| Saint-Augustin\n",
      "Processing 142| Kahului\n",
      "Processing 143| Mocuba\n",
      "Processing 144| Roebourne\n",
      "Processing 145| Howard Springs\n",
      "Processing 146| Saint-Philippe\n",
      "tsihombe not found. Skipping...\n",
      "Processing 147| Port Macquarie\n",
      "Processing 148| Lüderitz\n",
      "Processing 149| Chumphon\n",
      "Processing 150| Magadan\n",
      "Processing 151| Iqaluit\n",
      "Processing 152| Pokrovskoye\n",
      "Processing 153| São Félix do Xingu\n",
      "Processing 154| Lengshuijiang\n",
      "Processing 155| Kapaa\n",
      "Processing 156| Yaan\n",
      "Processing 157| Narsaq\n",
      "Processing 158| Chui\n",
      "Processing 159| Wanaka\n",
      "saleaula not found. Skipping...\n",
      "Processing 160| Hobyo\n",
      "Processing 161| Mauá\n",
      "belushya%20guba not found. Skipping...\n",
      "Processing 162| Longyearbyen\n",
      "Processing 163| Ucluelet\n",
      "Processing 164| Tura\n",
      "Processing 165| Bariloche\n",
      "Processing 166| Ishigaki\n",
      "Processing 167| Port Blair\n",
      "Processing 168| Caravelas\n",
      "Processing 169| Bethel\n",
      "Processing 170| Saint Paul Harbor\n",
      "Processing 171| Jaru\n",
      "Processing 172| Tete\n",
      "Processing 173| Lompoc\n",
      "Processing 174| Escárcega\n",
      "Processing 175| Road Town\n",
      "Processing 176| Santiago de Cali\n",
      "Processing 177| Arraial do Cabo\n",
      "Processing 178| Roberval\n",
      "Processing 179| San Felipe\n",
      "Processing 180| Tangjiazhuang\n",
      "Processing 181| College\n",
      "Processing 182| São João da Barra\n",
      "Processing 183| George Town\n",
      "matir not found. Skipping...\n",
      "Processing 184| Singkang\n",
      "Processing 185| Tsaratanana\n",
      "Processing 186| Kilimatinde\n",
      "Processing 187| Gazli\n",
      "sentyabrskiy not found. Skipping...\n",
      "fevralsk not found. Skipping...\n",
      "Processing 188| Ribeira Grande\n",
      "Processing 189| Lavrentiya\n",
      "Processing 190| Buala\n",
      "Processing 191| Kalach-na-Donu\n",
      "Processing 192| Mulegé\n",
      "Processing 193| Terme\n",
      "Processing 194| Sicuani\n",
      "Processing 195| Nzega\n",
      "Processing 196| Araranguá\n",
      "Processing 197| Waingapu\n",
      "Processing 198| San\n",
      "Processing 199| Biłgoraj\n",
      "Processing 200| Bowen\n",
      "Processing 201| Alofi\n",
      "palabuhanratu not found. Skipping...\n",
      "Processing 202| Paita\n",
      "Processing 203| Lafiagi\n",
      "Processing 204| Bambous Virieux\n",
      "vaitupu not found. Skipping...\n",
      "Processing 205| Kavieng\n",
      "Processing 206| Paamiut\n",
      "Processing 207| Fort Nelson\n",
      "rungata not found. Skipping...\n",
      "artyk not found. Skipping...\n",
      "Processing 208| Necochea\n",
      "Processing 209| Cururupu\n",
      "Processing 210| Magistral'nyy\n",
      "Processing 211| Horgeşti\n",
      "Processing 212| Presidencia Roque Sáenz Peña\n",
      "Processing 213| Cockburn Town\n",
      "Processing 214| Wonthaggi\n",
      "Processing 215| Saldanha\n",
      "Processing 216| Kapuskasing\n",
      "Processing 217| Bonfim\n",
      "Processing 218| Lakselv\n",
      "Processing 219| Palauig\n",
      "Processing 220| Porbandar\n",
      "Processing 221| Touros\n",
      "Processing 222| Discovery Bay\n",
      "vsevolodo-vilva not found. Skipping...\n",
      "Processing 223| Asău\n",
      "Processing 224| Torbay\n",
      "marcona not found. Skipping...\n",
      "Processing 225| Cidreira\n",
      "Processing 226| Cherskiy\n",
      "Processing 227| Dawlatabad\n",
      "Processing 228| Antakya\n",
      "Processing 229| Anloga\n",
      "Processing 230| Gamba\n",
      "Processing 231| Huilong\n",
      "Processing 232| Losinyy\n",
      "beypur not found. Skipping...\n",
      "Processing 233| Khovd\n",
      "Processing 234| Port Moresby\n",
      "Processing 235| Okhotsk\n",
      "Processing 236| Trivandrum\n",
      "Processing 237| Vila\n",
      "Processing 238| Vikulovo\n",
      "Processing 239| Tiksi\n",
      "Processing 240| Bontang\n",
      "Processing 241| Chortomlyk\n",
      "Processing 242| Qinzhou\n",
      "Processing 243| Velasco Ibarra\n",
      "Processing 244| Namatanai\n",
      "Processing 245| São Filipe\n",
      "Processing 246| Wiang Sa\n",
      "Processing 247| Naze\n",
      "Processing 248| Padang\n",
      "Processing 249| São José dos Pinhais\n",
      "Processing 250| Kenai\n",
      "imabari not found. Skipping...\n",
      "Processing 251| Lagoa Santa\n",
      "Processing 252| Verkhnyaya Inta\n",
      "Processing 253| Humberto de Campos\n",
      "Processing 254| Virginia Beach\n",
      "Processing 255| Los Llanos de Aridane\n",
      "Processing 256| Sillamäe\n",
      "Processing 257| Jinxiang\n",
      "Processing 258| Xiongyue\n",
      "Processing 259| Yumen\n",
      "Processing 260| Bhikangaon\n",
      "Processing 261| Belmonte\n",
      "Processing 262| Starkville\n",
      "Processing 263| Mombaça\n",
      "Processing 264| Hualmay\n",
      "Processing 265| Chala\n",
      "taburi not found. Skipping...\n",
      "Processing 266| Ancud\n",
      "Processing 267| Adeje\n",
      "Processing 268| Solnechnyy\n",
      "Processing 269| Heilbron\n",
      "Processing 270| Lagoa\n",
      "Processing 271| Mar del Plata\n",
      "Processing 272| Haines Junction\n",
      "Processing 273| Wau\n",
      "Processing 274| Hirara\n",
      "Processing 275| Quang Ngai\n",
      "Processing 276| Morondava\n",
      "Processing 277| Marzuq\n",
      "Processing 278| North Platte\n",
      "Processing 279| Vestmannaeyjar\n",
      "Processing 280| Tocopilla\n"
     ]
    },
    {
     "name": "stdout",
     "output_type": "stream",
     "text": [
      "Processing 281| Katsuura\n",
      "sinkat not found. Skipping...\n",
      "Processing 282| Honiara\n",
      "Processing 283| Pimentel\n",
      "Processing 284| Bam\n",
      "samusu not found. Skipping...\n",
      "Processing 285| Yankton\n",
      "Processing 286| Alyangula\n",
      "Processing 287| Klaksvík\n",
      "Processing 288| Pangai\n",
      "Processing 289| Coxim\n",
      "Processing 290| Lewiston\n",
      "Processing 291| Rāvar\n",
      "dzhusaly not found. Skipping...\n",
      "Processing 292| Agüimes\n",
      "Processing 293| Carnarvon\n",
      "Processing 294| Batagay-Alyta\n",
      "Processing 295| Araouane\n",
      "Processing 296| Maceió\n",
      "tsienyane not found. Skipping...\n",
      "Processing 297| Bubaque\n",
      "Processing 298| Tuatapere\n",
      "Processing 299| Lebu\n",
      "bargal not found. Skipping...\n",
      "Processing 300| Yelizovo\n",
      "Processing 301| Kuril'sk\n",
      "Processing 302| Nokaneng\n",
      "Processing 303| Nome\n",
      "Processing 304| Aswān\n",
      "Processing 305| San Quintín\n",
      "Processing 306| Watrous\n",
      "Processing 307| Ardahan\n",
      "Processing 308| Chkalovsk\n",
      "Processing 309| Ahipara\n",
      "Processing 310| Aklavik\n",
      "Processing 311| Carahue\n",
      "Processing 312| Pisco\n",
      "Processing 313| Avera\n",
      "Processing 314| Bengkulu\n",
      "Processing 315| Biak\n",
      "Processing 316| Luancheng\n",
      "Processing 317| Mabaruma\n",
      "Processing 318| Novomichurinsk\n",
      "Processing 319| Aktas\n",
      "Processing 320| Arroyo de la Encomienda\n",
      "nam%20tha not found. Skipping...\n",
      "galiwinku not found. Skipping...\n",
      "Processing 321| Picayune\n",
      "Processing 322| Boende\n",
      "Processing 323| Mojo\n",
      "Processing 324| Konya Province\n",
      "Processing 325| Amahai\n",
      "Processing 326| Luganville\n",
      "Processing 327| Novyy Urgal\n",
      "Processing 328| Wagar\n",
      "Processing 329| Juba\n",
      "Processing 330| Sitka\n",
      "Processing 331| Margate\n",
      "Processing 332| Sinnamary\n",
      "saryshagan not found. Skipping...\n",
      "Processing 333| Deputatsky\n",
      "Processing 334| Changli\n",
      "Processing 335| Blagoyevo\n",
      "Processing 336| Gönen\n",
      "Processing 337| Turbat\n",
      "Processing 338| Jumla\n",
      "Processing 339| Richards Bay\n",
      "Processing 340| Boa Vista\n",
      "Processing 341| Plettenberg Bay\n",
      "Processing 342| Leningradskiy\n",
      "Processing 343| Camacha\n",
      "Processing 344| Birin\n",
      "Processing 345| Mount Gambier\n",
      "Processing 346| Maragogi\n",
      "Processing 347| Chipinge\n",
      "Processing 348| Huaicheng\n",
      "meyungs not found. Skipping...\n",
      "Processing 349| Manggar\n",
      "Processing 350| Severodvinsk\n",
      "Processing 351| San Fernando del Valle de Catamarca\n",
      "Processing 352| Gravdal\n",
      "Processing 353| Maní\n",
      "Processing 354| Beloha\n",
      "Processing 355| Fortuna\n",
      "Processing 356| Impfondo\n",
      "Processing 357| Chara\n",
      "Processing 358| La Ronge\n",
      "Processing 359| Bonavista\n",
      "Processing 360| Karasjok\n",
      "Processing 361| Arrondissement du Havre\n",
      "Processing 362| Haimen\n",
      "Processing 363| Mitú\n",
      "Processing 364| Gumdag\n",
      "Processing 365| Manono\n",
      "Processing 366| Garoowe\n",
      "Processing 367| São Sebastião\n",
      "tarudant not found. Skipping...\n",
      "Processing 368| Petropavlovsk-Kamchatskiy\n",
      "Processing 369| Fuerte Olimpo\n",
      "Processing 370| Vanavara\n",
      "Processing 371| Rio Grande\n",
      "Processing 372| Norman Wells\n",
      "Processing 373| Almeirim\n",
      "Processing 374| Villiers\n",
      "Processing 375| Ponta do Sol\n",
      "Processing 376| Sur\n",
      "Processing 377| Verkhnevilyuysk\n",
      "Processing 378| Marabu\n",
      "Processing 379| Gamboula\n",
      "Processing 380| Aquiraz\n",
      "Processing 381| Bonthe\n",
      "Processing 382| Port Hedland\n",
      "Processing 383| Ferrol\n",
      "Processing 384| Innisfail\n",
      "Processing 385| Havelock\n",
      "Processing 386| Anan\n",
      "Processing 387| ‘Āhuimanu\n",
      "Processing 388| Paragominas\n",
      "Processing 389| Skellefteå\n",
      "Processing 390| Cabedelo\n",
      "Processing 391| Port Augusta\n",
      "formoso%20do%20araguaia not found. Skipping...\n",
      "burica not found. Skipping...\n",
      "Processing 392| Half Moon Bay\n",
      "Processing 393| Cervo\n",
      "Processing 394| Del Rio\n",
      "Processing 395| Parksville\n",
      "Processing 396| Kailua\n",
      "Processing 397| Hofn\n",
      "Processing 398| Krasnaya Gora\n",
      "Processing 399| Port-Gentil\n",
      "Processing 400| Kushiro\n",
      "Processing 401| Umluj\n",
      "verdalsora not found. Skipping...\n",
      "Processing 402| Marsh Harbour\n",
      "Processing 403| Zyryanka\n",
      "Processing 404| Bilibino\n",
      "Processing 405| Virginia\n",
      "Processing 406| San Javier\n",
      "Processing 407| Nizhniy Kuranakh\n",
      "Processing 408| Rietavas\n",
      "Processing 409| Tessalit\n",
      "Processing 410| Taoudenni\n",
      "Processing 411| Salalah\n",
      "Processing 412| Santa Rosa\n",
      "Processing 413| Anadyr\n",
      "inderborskiy not found. Skipping...\n",
      "Processing 414| Dicabisagan\n",
      "Processing 415| Ola\n",
      "Processing 416| San Policarpo\n",
      "Processing 417| Oktyabr'skiy\n",
      "Processing 418| Cefalù\n",
      "Processing 419| Guerrero Negro\n",
      "Processing 420| Goderich\n",
      "karamea not found. Skipping...\n",
      "Processing 421| Senovo\n",
      "Processing 422| Inírida\n",
      "Processing 423| Mitchell\n",
      "Processing 424| Siderno\n",
      "Processing 425| Bima\n",
      "Processing 426| Pontianak\n",
      "Processing 427| Pevek\n",
      "Processing 428| Acaraú\n",
      "Processing 429| Kaitangata\n",
      "Processing 430| Renfrew\n",
      "Processing 431| Glazunovka\n",
      "Processing 432| Hasaki\n",
      "Processing 433| Kalmunai\n",
      "Processing 434| Nacala\n",
      "galgani not found. Skipping...\n",
      "Processing 435| Celestún\n",
      "Processing 436| Ugoofaaru\n",
      "Processing 437| Amapá\n",
      "Processing 438| Mvomero\n",
      "Processing 439| Marsaxlokk\n",
      "Processing 440| Liwale\n",
      "Processing 441| Malé\n",
      "Processing 442| Hereford\n",
      "Processing 443| Ust-Nera\n",
      "Processing 444| Doha\n",
      "Processing 445| Jiwani\n",
      "Processing 446| Nizhnyaya Maktama\n",
      "Processing 447| Kavaratti\n",
      "Processing 448| Atambua\n",
      "Processing 449| San Rafael\n",
      "Processing 450| Rognan\n",
      "Processing 451| Samarai\n",
      "Processing 452| Qaqortoq\n",
      "Processing 453| Porto Belo\n",
      "Processing 454| Hastings\n",
      "Processing 455| Pinega\n",
      "Processing 456| Kholtoson\n",
      "Processing 457| Bambanglipuro\n",
      "Processing 458| Palekastro\n",
      "Processing 459| Tilichiki\n",
      "Processing 460| Fairbanks\n",
      "Processing 461| Nishihara\n",
      "Processing 462| Vanimo\n",
      "Processing 463| Pitimbu\n",
      "Processing 464| Oussouye\n",
      "Processing 465| Litovko\n",
      "Processing 466| Viedma\n",
      "Processing 467| Kolondiéba\n",
      "Processing 468| Batemans Bay\n",
      "Processing 469| Mogzon\n",
      "Processing 470| Nanortalik\n",
      "Processing 471| Ankazoabo\n",
      "Processing 472| Vologda\n",
      "Processing 473| Movileni\n",
      "Processing 474| Vao\n",
      "Processing 475| Alice Springs\n",
      "Processing 476| Talnakh\n",
      "Processing 477| Yangambi\n",
      "Processing 478| Vardø\n",
      "Processing 479| Kurchum\n",
      "Processing 480| Bosaso\n",
      "Processing 481| Jieshi\n",
      "Processing 482| Sauce\n",
      "mizpe%20ramon not found. Skipping...\n",
      "Processing 483| Bandarbeyla\n",
      "toliary not found. Skipping...\n",
      "ruatoria not found. Skipping...\n",
      "Processing 484| Constitución\n",
      "Processing 485| Sault Ste. Marie\n",
      "Processing 486| Nur-Sultan\n",
      "Processing 487| Tautira\n",
      "Processing 488| Chake Chake\n",
      "Processing 489| Pierre\n",
      "Processing 490| Walvis Bay\n",
      "halalo not found. Skipping...\n",
      "Processing 491| Tabuk\n",
      "Processing 492| Suntar\n",
      "nguiu not found. Skipping...\n",
      "Processing 493| Pak Phanang\n",
      "Processing 494| Blackwater\n",
      "Processing 495| Oskarshamn\n",
      "kopyevo not found. Skipping...\n",
      "Processing 496| Tucupita\n",
      "Processing 497| Peleduy\n",
      "geresk not found. Skipping...\n",
      "Processing 498| Omsukchan\n",
      "tabiauea not found. Skipping...\n",
      "Processing 499| Tiarei\n",
      "Processing 500| Chamba\n",
      "Processing 501| Udachny\n",
      "Processing 502| Gizo Government Station\n",
      "Processing 503| Kumul\n",
      "Processing 504| Watertown\n",
      "Processing 505| Ilo\n",
      "Processing 506| Moose Factory\n",
      "Processing 507| São Raimundo Nonato\n",
      "Processing 508| Emerald\n",
      "Processing 509| Leh\n",
      "Processing 510| Sorong\n",
      "Processing 511| Mongo\n",
      "Processing 512| Katherine\n",
      "Processing 513| Shingū\n",
      "Processing 514| Várzea Grande\n",
      "Processing 515| Tigil'\n",
      "Processing 516| Kaeo\n",
      "Processing 517| Morros\n",
      "Processing 518| Isangel\n",
      "Processing 519| Kidderminster\n",
      "Processing 520| Beira\n",
      "Processing 521| Colares\n",
      "Processing 522| Port Keats\n",
      "Processing 523| Sambava\n",
      "Processing 524| Muros\n",
      "tarhunah not found. Skipping...\n",
      "Processing 525| Orlik\n",
      "Processing 526| Mogoytuy\n",
      "Processing 527| Chapais\n",
      "kamenskoye not found. Skipping...\n",
      "Processing 528| Alvdal\n",
      "Processing 529| Aleksandrov Gay\n",
      "Processing 530| Faya\n",
      "Processing 531| Ternate\n",
      "Processing 532| Bull Savanna\n",
      "Processing 533| West Des Moines\n",
      "Processing 534| Saint-Pierre\n",
      "Processing 535| Spirit River\n",
      "Processing 536| Mahanje\n",
      "Processing 537| Trairi\n",
      "Processing 538| Mogadishu\n",
      "Processing 539| Oriximiná\n",
      "Processing 540| Dixon\n",
      "Processing 541| Miami Beach\n",
      "Processing 542| Lima\n",
      "Processing 543| Ust-Kuyga\n",
      "Processing 544| Phek\n",
      "Processing 545| Songjianghe\n",
      "Processing 546| Zhezkazgan\n",
      "Processing 547| Nanning\n",
      "umm%20durman not found. Skipping...\n",
      "Processing 548| Vaitape\n",
      "Processing 549| Aksarayskiy\n",
      "Processing 550| Shimoda\n",
      "Processing 551| Bako\n",
      "Processing 552| Pingliang\n",
      "Processing 553| Uíge\n",
      "Processing 554| Connersville\n",
      "Processing 555| Tallahassee\n",
      "Processing 556| Nuevo Progreso\n",
      "Processing 557| Shepetivka\n",
      "Processing 558| Lorengau\n",
      "Processing 559| Grand Gaube\n",
      "Processing 560| Nsanje\n",
      "Processing 561| Saurimo\n",
      "Processing 562| Moranbah\n",
      "Processing 563| Knokke-Heist\n",
      "Processing 564| Léo\n",
      "Processing 565| Petropavl\n",
      "Processing 566| Andros\n",
      "Processing 567| Terrace\n",
      "Processing 568| Holetown\n"
     ]
    }
   ],
   "source": [
    "#make lists to hold response info \n",
    "city_name = []\n",
    "lat = []\n",
    "lng = []\n",
    "max_temp = []\n",
    "humidity = []\n",
    "cloudiness = []\n",
    "wind_speed = []\n",
    "country = []\n",
    "date = []\n",
    "\n",
    "#begin record and set counter\n",
    "record = 1\n",
    "#Set = 1\n",
    "\n",
    "#make a for loop with exceptions to print the list as it is being processed \n",
    "#used fields in API response guide to find the headers https://openweathermap.org/current#parameter\n",
    "for city in cities:\n",
    "    try:\n",
    "        response = requests.get(query_url + city).json()\n",
    "        city_name.append(response['name'])\n",
    "        lat.append(response['coord']['lat'])\n",
    "        lng.append(response['coord']['lon'])\n",
    "        max_temp.append(response['main']['temp_max'])\n",
    "        humidity.append(response['main']['humidity'])\n",
    "        cloudiness.append(response['clouds']['all'])\n",
    "        wind_speed.append(response['wind']['speed'])\n",
    "        country.append(response['sys']['country'])\n",
    "        date.append(response['dt'])\n",
    "        #pull city names for printing\n",
    "        location = response['name']\n",
    "        print(f\"Processing {record}| {location}\")\n",
    "              \n",
    "        #add one to counter\n",
    "        #add wait time in loop due to api rate limit\n",
    "        record = record + 1\n",
    "        time.sleep(1.1)\n",
    "              \n",
    "        \n",
    "    except:\n",
    "        print(f\"{city} not found. Skipping...\")\n",
    "   \n",
    "\n",
    "    continue"
   ]
  },
  {
   "cell_type": "markdown",
   "metadata": {},
   "source": [
    "### Convert Raw Data to DataFrame\n",
    "* Export the city data into a .csv.\n",
    "* Display the DataFrame"
   ]
  },
  {
   "cell_type": "code",
   "execution_count": 5,
   "metadata": {},
   "outputs": [
    {
     "data": {
      "text/html": [
       "<div>\n",
       "<style scoped>\n",
       "    .dataframe tbody tr th:only-of-type {\n",
       "        vertical-align: middle;\n",
       "    }\n",
       "\n",
       "    .dataframe tbody tr th {\n",
       "        vertical-align: top;\n",
       "    }\n",
       "\n",
       "    .dataframe thead th {\n",
       "        text-align: right;\n",
       "    }\n",
       "</style>\n",
       "<table border=\"1\" class=\"dataframe\">\n",
       "  <thead>\n",
       "    <tr style=\"text-align: right;\">\n",
       "      <th></th>\n",
       "      <th>City</th>\n",
       "      <th>Lat</th>\n",
       "      <th>Lon</th>\n",
       "      <th>Max Temp</th>\n",
       "      <th>Humidity</th>\n",
       "      <th>Cloudiness</th>\n",
       "      <th>Wind Speed</th>\n",
       "      <th>Country</th>\n",
       "      <th>Date</th>\n",
       "    </tr>\n",
       "  </thead>\n",
       "  <tbody>\n",
       "    <tr>\n",
       "      <th>0</th>\n",
       "      <td>Hermanus</td>\n",
       "      <td>-34.4187</td>\n",
       "      <td>19.2345</td>\n",
       "      <td>294.82</td>\n",
       "      <td>67</td>\n",
       "      <td>81</td>\n",
       "      <td>2.68</td>\n",
       "      <td>ZA</td>\n",
       "      <td>1615479549</td>\n",
       "    </tr>\n",
       "    <tr>\n",
       "      <th>1</th>\n",
       "      <td>Pavlohrad</td>\n",
       "      <td>48.5167</td>\n",
       "      <td>35.8667</td>\n",
       "      <td>268.15</td>\n",
       "      <td>63</td>\n",
       "      <td>0</td>\n",
       "      <td>6.00</td>\n",
       "      <td>UA</td>\n",
       "      <td>1615479551</td>\n",
       "    </tr>\n",
       "    <tr>\n",
       "      <th>2</th>\n",
       "      <td>Korāput</td>\n",
       "      <td>18.8167</td>\n",
       "      <td>82.7167</td>\n",
       "      <td>296.76</td>\n",
       "      <td>34</td>\n",
       "      <td>82</td>\n",
       "      <td>3.06</td>\n",
       "      <td>IN</td>\n",
       "      <td>1615479552</td>\n",
       "    </tr>\n",
       "    <tr>\n",
       "      <th>3</th>\n",
       "      <td>Punta Arenas</td>\n",
       "      <td>-53.1500</td>\n",
       "      <td>-70.9167</td>\n",
       "      <td>282.15</td>\n",
       "      <td>61</td>\n",
       "      <td>75</td>\n",
       "      <td>11.32</td>\n",
       "      <td>CL</td>\n",
       "      <td>1615479554</td>\n",
       "    </tr>\n",
       "    <tr>\n",
       "      <th>4</th>\n",
       "      <td>Busselton</td>\n",
       "      <td>-33.6500</td>\n",
       "      <td>115.3333</td>\n",
       "      <td>291.48</td>\n",
       "      <td>97</td>\n",
       "      <td>100</td>\n",
       "      <td>1.34</td>\n",
       "      <td>AU</td>\n",
       "      <td>1615479555</td>\n",
       "    </tr>\n",
       "  </tbody>\n",
       "</table>\n",
       "</div>"
      ],
      "text/plain": [
       "           City      Lat       Lon  Max Temp  Humidity  Cloudiness  \\\n",
       "0      Hermanus -34.4187   19.2345    294.82        67          81   \n",
       "1     Pavlohrad  48.5167   35.8667    268.15        63           0   \n",
       "2       Korāput  18.8167   82.7167    296.76        34          82   \n",
       "3  Punta Arenas -53.1500  -70.9167    282.15        61          75   \n",
       "4     Busselton -33.6500  115.3333    291.48        97         100   \n",
       "\n",
       "   Wind Speed Country        Date  \n",
       "0        2.68      ZA  1615479549  \n",
       "1        6.00      UA  1615479551  \n",
       "2        3.06      IN  1615479552  \n",
       "3       11.32      CL  1615479554  \n",
       "4        1.34      AU  1615479555  "
      ]
     },
     "execution_count": 5,
     "metadata": {},
     "output_type": "execute_result"
    }
   ],
   "source": [
    "weather_df = pd.DataFrame({\n",
    "    'City' : city_name,\n",
    "    'Lat' : lat,\n",
    "    'Lon' : lng,\n",
    "    'Max Temp' : max_temp,\n",
    "    'Humidity' : humidity,\n",
    "    'Cloudiness' : cloudiness, \n",
    "    'Wind Speed' : wind_speed,\n",
    "    'Country' : country,\n",
    "    'Date' : date,\n",
    "})\n",
    "\n",
    "weather_df.to_csv(\"weather_data.csv\")\n",
    "\n",
    "weather_df.head()"
   ]
  },
  {
   "cell_type": "code",
   "execution_count": 6,
   "metadata": {
    "scrolled": true
   },
   "outputs": [
    {
     "data": {
      "text/html": [
       "<div>\n",
       "<style scoped>\n",
       "    .dataframe tbody tr th:only-of-type {\n",
       "        vertical-align: middle;\n",
       "    }\n",
       "\n",
       "    .dataframe tbody tr th {\n",
       "        vertical-align: top;\n",
       "    }\n",
       "\n",
       "    .dataframe thead th {\n",
       "        text-align: right;\n",
       "    }\n",
       "</style>\n",
       "<table border=\"1\" class=\"dataframe\">\n",
       "  <thead>\n",
       "    <tr style=\"text-align: right;\">\n",
       "      <th></th>\n",
       "      <th>Lat</th>\n",
       "    </tr>\n",
       "  </thead>\n",
       "  <tbody>\n",
       "    <tr>\n",
       "      <th>count</th>\n",
       "      <td>568.000000</td>\n",
       "    </tr>\n",
       "    <tr>\n",
       "      <th>mean</th>\n",
       "      <td>19.186897</td>\n",
       "    </tr>\n",
       "    <tr>\n",
       "      <th>std</th>\n",
       "      <td>33.031232</td>\n",
       "    </tr>\n",
       "    <tr>\n",
       "      <th>min</th>\n",
       "      <td>-54.800000</td>\n",
       "    </tr>\n",
       "    <tr>\n",
       "      <th>25%</th>\n",
       "      <td>-8.225425</td>\n",
       "    </tr>\n",
       "    <tr>\n",
       "      <th>50%</th>\n",
       "      <td>21.334450</td>\n",
       "    </tr>\n",
       "    <tr>\n",
       "      <th>75%</th>\n",
       "      <td>48.657775</td>\n",
       "    </tr>\n",
       "    <tr>\n",
       "      <th>max</th>\n",
       "      <td>78.218600</td>\n",
       "    </tr>\n",
       "  </tbody>\n",
       "</table>\n",
       "</div>"
      ],
      "text/plain": [
       "              Lat\n",
       "count  568.000000\n",
       "mean    19.186897\n",
       "std     33.031232\n",
       "min    -54.800000\n",
       "25%     -8.225425\n",
       "50%     21.334450\n",
       "75%     48.657775\n",
       "max     78.218600"
      ]
     },
     "execution_count": 6,
     "metadata": {},
     "output_type": "execute_result"
    }
   ],
   "source": [
    "#do summary statistics on latitude to ensure a good sample distribution use .describe()\n",
    "\n",
    "summary_stats_df = weather_df.describe()\n",
    "summary_stats_df[['Lat']]"
   ]
  },
  {
   "cell_type": "markdown",
   "metadata": {},
   "source": [
    "## Inspect the data and remove the cities where the humidity > 100%.\n",
    "----\n",
    "Skip this step if there are no cities that have humidity > 100%. "
   ]
  },
  {
   "cell_type": "code",
   "execution_count": 7,
   "metadata": {},
   "outputs": [
    {
     "data": {
      "text/html": [
       "<div>\n",
       "<style scoped>\n",
       "    .dataframe tbody tr th:only-of-type {\n",
       "        vertical-align: middle;\n",
       "    }\n",
       "\n",
       "    .dataframe tbody tr th {\n",
       "        vertical-align: top;\n",
       "    }\n",
       "\n",
       "    .dataframe thead th {\n",
       "        text-align: right;\n",
       "    }\n",
       "</style>\n",
       "<table border=\"1\" class=\"dataframe\">\n",
       "  <thead>\n",
       "    <tr style=\"text-align: right;\">\n",
       "      <th></th>\n",
       "      <th>City</th>\n",
       "      <th>Lat</th>\n",
       "      <th>Lon</th>\n",
       "      <th>Max Temp</th>\n",
       "      <th>Humidity</th>\n",
       "      <th>Cloudiness</th>\n",
       "      <th>Wind Speed</th>\n",
       "      <th>Country</th>\n",
       "      <th>Date</th>\n",
       "    </tr>\n",
       "  </thead>\n",
       "  <tbody>\n",
       "    <tr>\n",
       "      <th>200</th>\n",
       "      <td>Alofi</td>\n",
       "      <td>-19.0595</td>\n",
       "      <td>-169.9187</td>\n",
       "      <td>292.15</td>\n",
       "      <td>100</td>\n",
       "      <td>98</td>\n",
       "      <td>1.56</td>\n",
       "      <td>NU</td>\n",
       "      <td>1615479843</td>\n",
       "    </tr>\n",
       "    <tr>\n",
       "      <th>13</th>\n",
       "      <td>Port Elizabeth</td>\n",
       "      <td>-33.9180</td>\n",
       "      <td>25.5701</td>\n",
       "      <td>290.15</td>\n",
       "      <td>100</td>\n",
       "      <td>90</td>\n",
       "      <td>5.14</td>\n",
       "      <td>ZA</td>\n",
       "      <td>1615479568</td>\n",
       "    </tr>\n",
       "    <tr>\n",
       "      <th>63</th>\n",
       "      <td>Hambantota</td>\n",
       "      <td>6.1241</td>\n",
       "      <td>81.1185</td>\n",
       "      <td>297.15</td>\n",
       "      <td>100</td>\n",
       "      <td>20</td>\n",
       "      <td>2.06</td>\n",
       "      <td>LK</td>\n",
       "      <td>1615479644</td>\n",
       "    </tr>\n",
       "    <tr>\n",
       "      <th>386</th>\n",
       "      <td>‘Āhuimanu</td>\n",
       "      <td>21.4447</td>\n",
       "      <td>-157.8378</td>\n",
       "      <td>294.15</td>\n",
       "      <td>100</td>\n",
       "      <td>90</td>\n",
       "      <td>0.77</td>\n",
       "      <td>US</td>\n",
       "      <td>1615480116</td>\n",
       "    </tr>\n",
       "    <tr>\n",
       "      <th>299</th>\n",
       "      <td>Yelizovo</td>\n",
       "      <td>53.1873</td>\n",
       "      <td>158.3805</td>\n",
       "      <td>270.15</td>\n",
       "      <td>100</td>\n",
       "      <td>40</td>\n",
       "      <td>2.00</td>\n",
       "      <td>RU</td>\n",
       "      <td>1615479989</td>\n",
       "    </tr>\n",
       "    <tr>\n",
       "      <th>...</th>\n",
       "      <td>...</td>\n",
       "      <td>...</td>\n",
       "      <td>...</td>\n",
       "      <td>...</td>\n",
       "      <td>...</td>\n",
       "      <td>...</td>\n",
       "      <td>...</td>\n",
       "      <td>...</td>\n",
       "      <td>...</td>\n",
       "    </tr>\n",
       "    <tr>\n",
       "      <th>510</th>\n",
       "      <td>Mongo</td>\n",
       "      <td>12.1844</td>\n",
       "      <td>18.6930</td>\n",
       "      <td>306.61</td>\n",
       "      <td>6</td>\n",
       "      <td>60</td>\n",
       "      <td>3.11</td>\n",
       "      <td>TD</td>\n",
       "      <td>1615480299</td>\n",
       "    </tr>\n",
       "    <tr>\n",
       "      <th>408</th>\n",
       "      <td>Tessalit</td>\n",
       "      <td>20.1986</td>\n",
       "      <td>1.0114</td>\n",
       "      <td>303.46</td>\n",
       "      <td>5</td>\n",
       "      <td>8</td>\n",
       "      <td>6.34</td>\n",
       "      <td>ML</td>\n",
       "      <td>1615480149</td>\n",
       "    </tr>\n",
       "    <tr>\n",
       "      <th>114</th>\n",
       "      <td>Gouré</td>\n",
       "      <td>13.9835</td>\n",
       "      <td>10.2704</td>\n",
       "      <td>312.04</td>\n",
       "      <td>5</td>\n",
       "      <td>55</td>\n",
       "      <td>0.89</td>\n",
       "      <td>NE</td>\n",
       "      <td>1615479718</td>\n",
       "    </tr>\n",
       "    <tr>\n",
       "      <th>113</th>\n",
       "      <td>Arlit</td>\n",
       "      <td>18.7369</td>\n",
       "      <td>7.3853</td>\n",
       "      <td>312.23</td>\n",
       "      <td>5</td>\n",
       "      <td>0</td>\n",
       "      <td>3.60</td>\n",
       "      <td>NE</td>\n",
       "      <td>1615479716</td>\n",
       "    </tr>\n",
       "    <tr>\n",
       "      <th>133</th>\n",
       "      <td>Bokoro</td>\n",
       "      <td>12.3807</td>\n",
       "      <td>17.0568</td>\n",
       "      <td>313.94</td>\n",
       "      <td>5</td>\n",
       "      <td>100</td>\n",
       "      <td>1.94</td>\n",
       "      <td>TD</td>\n",
       "      <td>1615479746</td>\n",
       "    </tr>\n",
       "  </tbody>\n",
       "</table>\n",
       "<p>568 rows × 9 columns</p>\n",
       "</div>"
      ],
      "text/plain": [
       "               City      Lat       Lon  Max Temp  Humidity  Cloudiness  \\\n",
       "200           Alofi -19.0595 -169.9187    292.15       100          98   \n",
       "13   Port Elizabeth -33.9180   25.5701    290.15       100          90   \n",
       "63       Hambantota   6.1241   81.1185    297.15       100          20   \n",
       "386       ‘Āhuimanu  21.4447 -157.8378    294.15       100          90   \n",
       "299        Yelizovo  53.1873  158.3805    270.15       100          40   \n",
       "..              ...      ...       ...       ...       ...         ...   \n",
       "510           Mongo  12.1844   18.6930    306.61         6          60   \n",
       "408        Tessalit  20.1986    1.0114    303.46         5           8   \n",
       "114           Gouré  13.9835   10.2704    312.04         5          55   \n",
       "113           Arlit  18.7369    7.3853    312.23         5           0   \n",
       "133          Bokoro  12.3807   17.0568    313.94         5         100   \n",
       "\n",
       "     Wind Speed Country        Date  \n",
       "200        1.56      NU  1615479843  \n",
       "13         5.14      ZA  1615479568  \n",
       "63         2.06      LK  1615479644  \n",
       "386        0.77      US  1615480116  \n",
       "299        2.00      RU  1615479989  \n",
       "..          ...     ...         ...  \n",
       "510        3.11      TD  1615480299  \n",
       "408        6.34      ML  1615480149  \n",
       "114        0.89      NE  1615479718  \n",
       "113        3.60      NE  1615479716  \n",
       "133        1.94      TD  1615479746  \n",
       "\n",
       "[568 rows x 9 columns]"
      ]
     },
     "execution_count": 7,
     "metadata": {},
     "output_type": "execute_result"
    }
   ],
   "source": [
    "#sort descending to check if there are humidity values greater than 100\n",
    "\n",
    "weather_df.sort_values(by=['Humidity'], ascending = False)"
   ]
  },
  {
   "cell_type": "code",
   "execution_count": 8,
   "metadata": {},
   "outputs": [],
   "source": [
    "#if greater than 100\n",
    "#max_humidity = 100\n",
    "#weather_df.drop(weather_df.loc[weather_df['Humidity'] > 'max_humidity'].index, inplace=True)\n",
    "\n",
    "#  Get the indices of cities that have humidity over 100%.\n"
   ]
  },
  {
   "cell_type": "code",
   "execution_count": 9,
   "metadata": {},
   "outputs": [],
   "source": [
    "# Make a new DataFrame equal to the city data to drop all humidity outliers by index.\n",
    "# Passing \"inplace=False\" will make a copy of the city_data DataFrame, which we call \"clean_city_data\".\n"
   ]
  },
  {
   "cell_type": "code",
   "execution_count": null,
   "metadata": {},
   "outputs": [],
   "source": [
    "\n"
   ]
  },
  {
   "cell_type": "markdown",
   "metadata": {},
   "source": [
    "## Plotting the Data\n",
    "* Use proper labeling of the plots using plot titles (including date of analysis) and axes labels.\n",
    "* Save the plotted figures as .pngs."
   ]
  },
  {
   "cell_type": "markdown",
   "metadata": {},
   "source": [
    "## Latitude vs. Temperature Plot"
   ]
  },
  {
   "cell_type": "code",
   "execution_count": 10,
   "metadata": {
    "scrolled": true
   },
   "outputs": [
    {
     "data": {
      "image/png": "[encoded data removed]",
      "text/plain": [
       "<Figure size 432x288 with 1 Axes>"
      ]
     },
     "metadata": {
      "needs_background": "light"
     },
     "output_type": "display_data"
    }
   ],
   "source": [
    "plt.scatter(weather_df['Lat'], weather_df['Max Temp'])\n",
    "plt.title('Relationship of Latitude and Max Temperature 3/7/21')\n",
    "plt.xlabel('Latitude')\n",
    "plt.ylabel('Maximum Temperature')\n",
    "\n",
    "plt.show()"
   ]
  },
  {
   "cell_type": "markdown",
   "metadata": {},
   "source": [
    "The plot is analyzing whether there is a trend in temperature related to latitude (or closeness to the equator).\n",
    "Maximum temperature increases as you get closer to the equator and decreases asymmetrically as you diverge to the north and south."
   ]
  },
  {
   "cell_type": "markdown",
   "metadata": {},
   "source": [
    "## Latitude vs. Humidity Plot"
   ]
  },
  {
   "cell_type": "code",
   "execution_count": 11,
   "metadata": {},
   "outputs": [
    {
     "data": {
      "image/png": "[encoded data removed]",
      "text/plain": [
       "<Figure size 432x288 with 1 Axes>"
      ]
     },
     "metadata": {
      "needs_background": "light"
     },
     "output_type": "display_data"
    }
   ],
   "source": [
    "plt.scatter(weather_df['Lat'], weather_df['Humidity'])\n",
    "plt.title('Relationship of Latitude and Humidity 3/7/21')\n",
    "plt.xlabel('Latitude')\n",
    "plt.ylabel('Humidity (%)')\n",
    "\n",
    "plt.show()"
   ]
  },
  {
   "cell_type": "markdown",
   "metadata": {},
   "source": [
    "The plot is analyzing trends in humidity relative to the location and proximity to the equator. \n",
    "There is a fair amount of scatter on much of the plot indicating that there are additional factors affecting humidity besides the proximity to the equator. Two trends that can be interpreted are that humidity is consitently high within -5 to 5 degrees of latitude (at the equator), and drier climates are concentrated between 10 and 50 degrees of latitude (on the sampled dataset)."
   ]
  },
  {
   "cell_type": "markdown",
   "metadata": {},
   "source": [
    "## Latitude vs. Cloudiness Plot"
   ]
  },
  {
   "cell_type": "code",
   "execution_count": 12,
   "metadata": {},
   "outputs": [
    {
     "data": {
      "image/png": "[encoded data removed]",
      "text/plain": [
       "<Figure size 432x288 with 1 Axes>"
      ]
     },
     "metadata": {
      "needs_background": "light"
     },
     "output_type": "display_data"
    }
   ],
   "source": [
    "plt.scatter(weather_df['Lat'], weather_df['Cloudiness'])\n",
    "plt.title('Relationship of Latitude and Cloudiness 3/7/21')\n",
    "plt.xlabel('Latitude')\n",
    "plt.ylabel('Cloudiness')\n",
    "\n",
    "plt.show()"
   ]
  },
  {
   "cell_type": "markdown",
   "metadata": {},
   "source": [
    "This plot is analyzing trends in cloudiness relative to latitude.\n",
    "There does not appear to be a clear relationship, indicating that other factors play more of a role in cloudiness than latitude. I hypothesize that the  straight line clusters ant 0, 20, 40, ~80 and 100 are due to the measurement technique used for cloudiness and in much of the dataset cloudiness measurements are lumped into incrementally increasing percentages (or relative 'buckets') rather than being exact measurements."
   ]
  },
  {
   "cell_type": "markdown",
   "metadata": {},
   "source": [
    "## Latitude vs. Wind Speed Plot"
   ]
  },
  {
   "cell_type": "code",
   "execution_count": 13,
   "metadata": {},
   "outputs": [
    {
     "data": {
      "image/png": "[encoded data removed]",
      "text/plain": [
       "<Figure size 432x288 with 1 Axes>"
      ]
     },
     "metadata": {
      "needs_background": "light"
     },
     "output_type": "display_data"
    }
   ],
   "source": [
    "plt.scatter(weather_df['Lat'], weather_df['Wind Speed'])\n",
    "plt.title('Relationship of Latitude and Wind Speed 3/7/21')\n",
    "plt.xlabel('Latitude')\n",
    "plt.ylabel('Wind Speed')\n",
    "\n",
    "plt.show()"
   ]
  },
  {
   "cell_type": "markdown",
   "metadata": {},
   "source": [
    "This plot is analyzing the relationship of wind speed to latitude. \n",
    "there is a small trend in wind speed in that the highest measurements are recorded at the highest and lowest latitudes. At the time of year that the measurements were taken, wind speeds of more than 8 mph are unusual. Summary statistics and a box and whisker plot on this data set would be appropriate for additional analysis."
   ]
  },
  {
   "cell_type": "markdown",
   "metadata": {},
   "source": [
    "## Linear Regression"
   ]
  },
  {
   "cell_type": "markdown",
   "metadata": {},
   "source": [
    "####  Northern Hemisphere - Max Temp vs. Latitude Linear Regression"
   ]
  },
  {
   "cell_type": "code",
   "execution_count": 14,
   "metadata": {},
   "outputs": [
    {
     "data": {
      "text/html": [
       "<div>\n",
       "<style scoped>\n",
       "    .dataframe tbody tr th:only-of-type {\n",
       "        vertical-align: middle;\n",
       "    }\n",
       "\n",
       "    .dataframe tbody tr th {\n",
       "        vertical-align: top;\n",
       "    }\n",
       "\n",
       "    .dataframe thead th {\n",
       "        text-align: right;\n",
       "    }\n",
       "</style>\n",
       "<table border=\"1\" class=\"dataframe\">\n",
       "  <thead>\n",
       "    <tr style=\"text-align: right;\">\n",
       "      <th></th>\n",
       "      <th>City</th>\n",
       "      <th>Lat</th>\n",
       "      <th>Lon</th>\n",
       "      <th>Max Temp</th>\n",
       "      <th>Humidity</th>\n",
       "      <th>Cloudiness</th>\n",
       "      <th>Wind Speed</th>\n",
       "      <th>Country</th>\n",
       "      <th>Date</th>\n",
       "    </tr>\n",
       "  </thead>\n",
       "  <tbody>\n",
       "    <tr>\n",
       "      <th>1</th>\n",
       "      <td>Pavlohrad</td>\n",
       "      <td>48.5167</td>\n",
       "      <td>35.8667</td>\n",
       "      <td>268.15</td>\n",
       "      <td>63</td>\n",
       "      <td>0</td>\n",
       "      <td>6.00</td>\n",
       "      <td>UA</td>\n",
       "      <td>1615479551</td>\n",
       "    </tr>\n",
       "    <tr>\n",
       "      <th>2</th>\n",
       "      <td>Korāput</td>\n",
       "      <td>18.8167</td>\n",
       "      <td>82.7167</td>\n",
       "      <td>296.76</td>\n",
       "      <td>34</td>\n",
       "      <td>82</td>\n",
       "      <td>3.06</td>\n",
       "      <td>IN</td>\n",
       "      <td>1615479552</td>\n",
       "    </tr>\n",
       "    <tr>\n",
       "      <th>6</th>\n",
       "      <td>Rørvik</td>\n",
       "      <td>64.8621</td>\n",
       "      <td>11.2373</td>\n",
       "      <td>275.15</td>\n",
       "      <td>60</td>\n",
       "      <td>75</td>\n",
       "      <td>7.72</td>\n",
       "      <td>NO</td>\n",
       "      <td>1615479558</td>\n",
       "    </tr>\n",
       "    <tr>\n",
       "      <th>7</th>\n",
       "      <td>Cosamaloapan</td>\n",
       "      <td>18.3667</td>\n",
       "      <td>-95.8000</td>\n",
       "      <td>299.69</td>\n",
       "      <td>63</td>\n",
       "      <td>10</td>\n",
       "      <td>1.72</td>\n",
       "      <td>MX</td>\n",
       "      <td>1615479560</td>\n",
       "    </tr>\n",
       "    <tr>\n",
       "      <th>8</th>\n",
       "      <td>Jamestown</td>\n",
       "      <td>42.0970</td>\n",
       "      <td>-79.2353</td>\n",
       "      <td>290.15</td>\n",
       "      <td>48</td>\n",
       "      <td>75</td>\n",
       "      <td>7.62</td>\n",
       "      <td>US</td>\n",
       "      <td>1615479332</td>\n",
       "    </tr>\n",
       "  </tbody>\n",
       "</table>\n",
       "</div>"
      ],
      "text/plain": [
       "           City      Lat      Lon  Max Temp  Humidity  Cloudiness  Wind Speed  \\\n",
       "1     Pavlohrad  48.5167  35.8667    268.15        63           0        6.00   \n",
       "2       Korāput  18.8167  82.7167    296.76        34          82        3.06   \n",
       "6        Rørvik  64.8621  11.2373    275.15        60          75        7.72   \n",
       "7  Cosamaloapan  18.3667 -95.8000    299.69        63          10        1.72   \n",
       "8     Jamestown  42.0970 -79.2353    290.15        48          75        7.62   \n",
       "\n",
       "  Country        Date  \n",
       "1      UA  1615479551  \n",
       "2      IN  1615479552  \n",
       "6      NO  1615479558  \n",
       "7      MX  1615479560  \n",
       "8      US  1615479332  "
      ]
     },
     "execution_count": 14,
     "metadata": {},
     "output_type": "execute_result"
    }
   ],
   "source": [
    "#split up data frame by the latitude value \n",
    "lat_val=0\n",
    "north_weather = weather_df[weather_df['Lat'] >=0]\n",
    "north_weather.head()"
   ]
  },
  {
   "cell_type": "code",
   "execution_count": 15,
   "metadata": {},
   "outputs": [
    {
     "name": "stdout",
     "output_type": "stream",
     "text": [
      "y=-1.05x +332.24\n"
     ]
    }
   ],
   "source": [
    "x = north_weather['Max Temp']\n",
    "y = north_weather['Lat']\n",
    "\n",
    "(slope, intercept, rvalue, pvalue, stderr)= linregress(x, y)\n",
    "regress_values= x * slope + intercept\n",
    "\n",
    "line_eq = \"y=\" + str(round(slope,2)) + \"x +\" + str(round(intercept, 2))\n",
    "\n",
    "print(line_eq)"
   ]
  },
  {
   "cell_type": "code",
   "execution_count": 16,
   "metadata": {},
   "outputs": [
    {
     "data": {
      "text/plain": [
       "<function matplotlib.pyplot.show(close=None, block=None)>"
      ]
     },
     "execution_count": 16,
     "metadata": {},
     "output_type": "execute_result"
    },
    {
     "data": {
      "image/png": "[encoded data removed]",
      "text/plain": [
       "<Figure size 432x288 with 1 Axes>"
      ]
     },
     "metadata": {
      "needs_background": "light"
     },
     "output_type": "display_data"
    }
   ],
   "source": [
    "plt.scatter(x,y)\n",
    "plt.plot(x, regress_values, \"r\")\n",
    "\n",
    "#plt.annotate(line_eq, (240,20), fontsize = 10)\n",
    "\n",
    "plt.title('Correlation of Maximum Temperature and Latitude (Northern Hemisphere) 3/7/21')\n",
    "plt.xlabel('Maximum Temperature (Degrees)')\n",
    "plt.ylabel('Latitude')\n",
    "plt.show"
   ]
  },
  {
   "cell_type": "markdown",
   "metadata": {},
   "source": [
    "####  Southern Hemisphere - Max Temp vs. Latitude Linear Regression"
   ]
  },
  {
   "cell_type": "code",
   "execution_count": 17,
   "metadata": {},
   "outputs": [
    {
     "data": {
      "text/html": [
       "<div>\n",
       "<style scoped>\n",
       "    .dataframe tbody tr th:only-of-type {\n",
       "        vertical-align: middle;\n",
       "    }\n",
       "\n",
       "    .dataframe tbody tr th {\n",
       "        vertical-align: top;\n",
       "    }\n",
       "\n",
       "    .dataframe thead th {\n",
       "        text-align: right;\n",
       "    }\n",
       "</style>\n",
       "<table border=\"1\" class=\"dataframe\">\n",
       "  <thead>\n",
       "    <tr style=\"text-align: right;\">\n",
       "      <th></th>\n",
       "      <th>City</th>\n",
       "      <th>Lat</th>\n",
       "      <th>Lon</th>\n",
       "      <th>Max Temp</th>\n",
       "      <th>Humidity</th>\n",
       "      <th>Cloudiness</th>\n",
       "      <th>Wind Speed</th>\n",
       "      <th>Country</th>\n",
       "      <th>Date</th>\n",
       "    </tr>\n",
       "  </thead>\n",
       "  <tbody>\n",
       "    <tr>\n",
       "      <th>0</th>\n",
       "      <td>Hermanus</td>\n",
       "      <td>-34.4187</td>\n",
       "      <td>19.2345</td>\n",
       "      <td>294.82</td>\n",
       "      <td>67</td>\n",
       "      <td>81</td>\n",
       "      <td>2.68</td>\n",
       "      <td>ZA</td>\n",
       "      <td>1615479549</td>\n",
       "    </tr>\n",
       "    <tr>\n",
       "      <th>3</th>\n",
       "      <td>Punta Arenas</td>\n",
       "      <td>-53.1500</td>\n",
       "      <td>-70.9167</td>\n",
       "      <td>282.15</td>\n",
       "      <td>61</td>\n",
       "      <td>75</td>\n",
       "      <td>11.32</td>\n",
       "      <td>CL</td>\n",
       "      <td>1615479554</td>\n",
       "    </tr>\n",
       "    <tr>\n",
       "      <th>4</th>\n",
       "      <td>Busselton</td>\n",
       "      <td>-33.6500</td>\n",
       "      <td>115.3333</td>\n",
       "      <td>291.48</td>\n",
       "      <td>97</td>\n",
       "      <td>100</td>\n",
       "      <td>1.34</td>\n",
       "      <td>AU</td>\n",
       "      <td>1615479555</td>\n",
       "    </tr>\n",
       "    <tr>\n",
       "      <th>5</th>\n",
       "      <td>Airai</td>\n",
       "      <td>-8.9266</td>\n",
       "      <td>125.4092</td>\n",
       "      <td>289.11</td>\n",
       "      <td>96</td>\n",
       "      <td>52</td>\n",
       "      <td>0.34</td>\n",
       "      <td>TL</td>\n",
       "      <td>1615479557</td>\n",
       "    </tr>\n",
       "    <tr>\n",
       "      <th>10</th>\n",
       "      <td>Rikitea</td>\n",
       "      <td>-23.1203</td>\n",
       "      <td>-134.9692</td>\n",
       "      <td>298.88</td>\n",
       "      <td>78</td>\n",
       "      <td>22</td>\n",
       "      <td>7.66</td>\n",
       "      <td>PF</td>\n",
       "      <td>1615479564</td>\n",
       "    </tr>\n",
       "  </tbody>\n",
       "</table>\n",
       "</div>"
      ],
      "text/plain": [
       "            City      Lat       Lon  Max Temp  Humidity  Cloudiness  \\\n",
       "0       Hermanus -34.4187   19.2345    294.82        67          81   \n",
       "3   Punta Arenas -53.1500  -70.9167    282.15        61          75   \n",
       "4      Busselton -33.6500  115.3333    291.48        97         100   \n",
       "5          Airai  -8.9266  125.4092    289.11        96          52   \n",
       "10       Rikitea -23.1203 -134.9692    298.88        78          22   \n",
       "\n",
       "    Wind Speed Country        Date  \n",
       "0         2.68      ZA  1615479549  \n",
       "3        11.32      CL  1615479554  \n",
       "4         1.34      AU  1615479555  \n",
       "5         0.34      TL  1615479557  \n",
       "10        7.66      PF  1615479564  "
      ]
     },
     "execution_count": 17,
     "metadata": {},
     "output_type": "execute_result"
    }
   ],
   "source": [
    "south_weather = weather_df[weather_df['Lat'] < 0]\n",
    "south_weather.head()"
   ]
  },
  {
   "cell_type": "code",
   "execution_count": 18,
   "metadata": {},
   "outputs": [
    {
     "name": "stdout",
     "output_type": "stream",
     "text": [
      "y=1.47x +-456.72\n"
     ]
    }
   ],
   "source": [
    "x = south_weather['Max Temp']\n",
    "y = south_weather['Lat']\n",
    "\n",
    "(slope, intercept, rvalue, pvalue, stderr)= linregress(x, y)\n",
    "regress_values= x * slope + intercept\n",
    "\n",
    "line_eq = \"y=\" + str(round(slope,2)) + \"x +\" + str(round(intercept, 2))\n",
    "\n",
    "print(line_eq)"
   ]
  },
  {
   "cell_type": "code",
   "execution_count": 19,
   "metadata": {},
   "outputs": [
    {
     "data": {
      "text/plain": [
       "<function matplotlib.pyplot.show(close=None, block=None)>"
      ]
     },
     "execution_count": 19,
     "metadata": {},
     "output_type": "execute_result"
    },
    {
     "data": {
      "image/png": "[encoded data removed]",
      "text/plain": [
       "<Figure size 432x288 with 1 Axes>"
      ]
     },
     "metadata": {
      "needs_background": "light"
     },
     "output_type": "display_data"
    }
   ],
   "source": [
    "plt.scatter(x,y)\n",
    "plt.plot(x, regress_values, \"r\")\n",
    "\n",
    "#plt.annotate(line_eq, (240,20), fontsize = 10)\n",
    "\n",
    "plt.title('Correlation of Maximum Temperature and Latitude (Southern Hemisphere) 3/7/21')\n",
    "plt.xlabel('Maximum Temperature (Degrees)')\n",
    "plt.ylabel('Latitude')\n",
    "plt.show"
   ]
  },
  {
   "cell_type": "markdown",
   "metadata": {},
   "source": [
    "The two plots  have opposit regression trends which show that temperatures rise as you approach the equator."
   ]
  },
  {
   "cell_type": "markdown",
   "metadata": {},
   "source": [
    "####  Northern Hemisphere - Humidity (%) vs. Latitude Linear Regression"
   ]
  },
  {
   "cell_type": "code",
   "execution_count": 20,
   "metadata": {},
   "outputs": [
    {
     "data": {
      "text/plain": [
       "<function matplotlib.pyplot.show(close=None, block=None)>"
      ]
     },
     "execution_count": 20,
     "metadata": {},
     "output_type": "execute_result"
    },
    {
     "data": {
      "image/png": "[encoded data removed]",
      "text/plain": [
       "<Figure size 432x288 with 1 Axes>"
      ]
     },
     "metadata": {
      "needs_background": "light"
     },
     "output_type": "display_data"
    }
   ],
   "source": [
    "x = north_weather['Humidity']\n",
    "y = north_weather['Lat']\n",
    "\n",
    "(slope, intercept, rvalue, pvalue, stderr)= linregress(x, y)\n",
    "regress_values= x * slope + intercept\n",
    "\n",
    "line_eq = \"y=\" + str(round(slope,2)) + \"x +\" + str(round(intercept, 2))\n",
    "\n",
    "plt.scatter(x,y)\n",
    "plt.plot(x, regress_values, \"r\")\n",
    "\n",
    "#plt.annotate(line_eq, (240,20), fontsize = 10)\n",
    "\n",
    "plt.title('Correlation of Humidity and Latitude (Northern Hemisphere) 3/7/21')\n",
    "plt.xlabel('Humidity %')\n",
    "plt.ylabel('Latitude')\n",
    "plt.show"
   ]
  },
  {
   "cell_type": "markdown",
   "metadata": {},
   "source": [
    "####  Southern Hemisphere - Humidity (%) vs. Latitude Linear Regression"
   ]
  },
  {
   "cell_type": "code",
   "execution_count": 21,
   "metadata": {},
   "outputs": [
    {
     "data": {
      "text/plain": [
       "<function matplotlib.pyplot.show(close=None, block=None)>"
      ]
     },
     "execution_count": 21,
     "metadata": {},
     "output_type": "execute_result"
    },
    {
     "data": {
      "image/png": "[encoded data removed]",
      "text/plain": [
       "<Figure size 432x288 with 1 Axes>"
      ]
     },
     "metadata": {
      "needs_background": "light"
     },
     "output_type": "display_data"
    }
   ],
   "source": [
    "x = south_weather['Humidity']\n",
    "y = south_weather['Lat']\n",
    "\n",
    "(slope, intercept, rvalue, pvalue, stderr)= linregress(x, y)\n",
    "regress_values= x * slope + intercept\n",
    "\n",
    "line_eq = \"y=\" + str(round(slope,2)) + \"x +\" + str(round(intercept, 2))\n",
    "\n",
    "plt.scatter(x,y)\n",
    "plt.plot(x, regress_values, \"r\")\n",
    "\n",
    "#plt.annotate(line_eq, (240,20), fontsize = 10)\n",
    "\n",
    "plt.title('Correlation of Humidity and Latitude (Southern Hemisphere) 3/7/21')\n",
    "plt.xlabel('Humidity %')\n",
    "plt.ylabel('Latitude')\n",
    "plt.show"
   ]
  },
  {
   "cell_type": "markdown",
   "metadata": {},
   "source": [
    "These plots show that in the southern hemisphere, humidity increases as you approach the equator. However in the Northern Hemisphere data, there is a lot of scatter on the data and humidity decreases at low latitudes. It looks like overall a large portion of the northern hemisphere experiences relatively high humidity (60 to 100%). I would want to dig deeper into the sampling of cities in this case because the results are counter-intuitive to what I was expecting, and make sure I have an even number of cities in the north and south and a good representation across the latitudes."
   ]
  },
  {
   "cell_type": "markdown",
   "metadata": {},
   "source": [
    "####  Northern Hemisphere - Cloudiness (%) vs. Latitude Linear Regression"
   ]
  },
  {
   "cell_type": "code",
   "execution_count": 22,
   "metadata": {},
   "outputs": [
    {
     "data": {
      "text/plain": [
       "<function matplotlib.pyplot.show(close=None, block=None)>"
      ]
     },
     "execution_count": 22,
     "metadata": {},
     "output_type": "execute_result"
    },
    {
     "data": {
      "image/png": "[encoded data removed]",
      "text/plain": [
       "<Figure size 432x288 with 1 Axes>"
      ]
     },
     "metadata": {
      "needs_background": "light"
     },
     "output_type": "display_data"
    }
   ],
   "source": [
    "x = north_weather['Cloudiness']\n",
    "y = north_weather['Lat']\n",
    "\n",
    "(slope, intercept, rvalue, pvalue, stderr)= linregress(x, y)\n",
    "regress_values= x * slope + intercept\n",
    "\n",
    "line_eq = \"y=\" + str(round(slope,2)) + \"x +\" + str(round(intercept, 2))\n",
    "\n",
    "plt.scatter(x,y)\n",
    "plt.plot(x, regress_values, \"r\")\n",
    "\n",
    "#plt.annotate(line_eq, (240,20), fontsize = 10)\n",
    "\n",
    "plt.title('Correlation of Cloudiness and Latitude (Northern Hemisphere) 3/7/21')\n",
    "plt.xlabel('Cloudiness %')\n",
    "plt.ylabel('Latitude')\n",
    "plt.show"
   ]
  },
  {
   "cell_type": "markdown",
   "metadata": {},
   "source": [
    "####  Southern Hemisphere - Cloudiness (%) vs. Latitude Linear Regression"
   ]
  },
  {
   "cell_type": "code",
   "execution_count": 26,
   "metadata": {},
   "outputs": [
    {
     "data": {
      "text/plain": [
       "<function matplotlib.pyplot.show(close=None, block=None)>"
      ]
     },
     "execution_count": 26,
     "metadata": {},
     "output_type": "execute_result"
    },
    {
     "data": {
      "image/png": "[encoded data removed]",
      "text/plain": [
       "<Figure size 432x288 with 1 Axes>"
      ]
     },
     "metadata": {
      "needs_background": "light"
     },
     "output_type": "display_data"
    }
   ],
   "source": [
    "x = south_weather['Cloudiness']\n",
    "y = south_weather['Lat']\n",
    "\n",
    "(slope, intercept, rvalue, pvalue, stderr)= linregress(x, y)\n",
    "regress_values= x * slope + intercept\n",
    "\n",
    "line_eq = \"y=\" + str(round(slope,2)) + \"x +\" + str(round(intercept, 2))\n",
    "\n",
    "plt.scatter(x,y)\n",
    "plt.plot(x, regress_values, \"r\")\n",
    "\n",
    "#plt.annotate(line_eq, (240,20), fontsize = 10)\n",
    "\n",
    "plt.title('Correlation of Cloudiness and Latitude (Southern Hemisphere) 3/7/21')\n",
    "plt.xlabel('Cloudiness %')\n",
    "plt.ylabel('Latitude')\n",
    "plt.show"
   ]
  },
  {
   "cell_type": "markdown",
   "metadata": {},
   "source": [
    "These plots show cloudiness correlated to latitude. There is a lot of scatter in the data indicating that latitude is probably not a large driver of the amount of cloudiness. Additionally, the clustering along vertical lines at regular intervals indicates that cloudiness is commonly measured in relative \"buckets\" at 0, 20, 40, ~80 and 100."
   ]
  },
  {
   "cell_type": "markdown",
   "metadata": {},
   "source": [
    "####  Northern Hemisphere - Wind Speed (mph) vs. Latitude Linear Regression"
   ]
  },
  {
   "cell_type": "code",
   "execution_count": 24,
   "metadata": {},
   "outputs": [
    {
     "data": {
      "text/plain": [
       "<function matplotlib.pyplot.show(close=None, block=None)>"
      ]
     },
     "execution_count": 24,
     "metadata": {},
     "output_type": "execute_result"
    },
    {
     "data": {
      "image/png": "[encoded data removed]",
      "text/plain": [
       "<Figure size 432x288 with 1 Axes>"
      ]
     },
     "metadata": {
      "needs_background": "light"
     },
     "output_type": "display_data"
    }
   ],
   "source": [
    "x = north_weather['Wind Speed']\n",
    "y = north_weather['Lat']\n",
    "\n",
    "(slope, intercept, rvalue, pvalue, stderr)= linregress(x, y)\n",
    "regress_values= x * slope + intercept\n",
    "\n",
    "line_eq = \"y=\" + str(round(slope,2)) + \"x +\" + str(round(intercept, 2))\n",
    "\n",
    "plt.scatter(x,y)\n",
    "plt.plot(x, regress_values, \"r\")\n",
    "\n",
    "#plt.annotate(line_eq, (240,20), fontsize = 10)\n",
    "\n",
    "plt.title('Correlation of Wind Speed and Latitude (Northern Hemisphere) 3/7/21')\n",
    "plt.xlabel('Wind Speed')\n",
    "plt.ylabel('Latitude')\n",
    "plt.show"
   ]
  },
  {
   "cell_type": "markdown",
   "metadata": {},
   "source": [
    "####  Southern Hemisphere - Wind Speed (mph) vs. Latitude Linear Regression"
   ]
  },
  {
   "cell_type": "code",
   "execution_count": 25,
   "metadata": {},
   "outputs": [
    {
     "data": {
      "text/plain": [
       "<function matplotlib.pyplot.show(close=None, block=None)>"
      ]
     },
     "execution_count": 25,
     "metadata": {},
     "output_type": "execute_result"
    },
    {
     "data": {
      "image/png": "[encoded data removed]",
      "text/plain": [
       "<Figure size 432x288 with 1 Axes>"
      ]
     },
     "metadata": {
      "needs_background": "light"
     },
     "output_type": "display_data"
    }
   ],
   "source": [
    "x = south_weather['Wind Speed']\n",
    "y = south_weather['Lat']\n",
    "\n",
    "(slope, intercept, rvalue, pvalue, stderr)= linregress(x, y)\n",
    "regress_values= x * slope + intercept\n",
    "\n",
    "line_eq = \"y=\" + str(round(slope,2)) + \"x +\" + str(round(intercept, 2))\n",
    "\n",
    "plt.scatter(x,y)\n",
    "plt.plot(x, regress_values, \"r\")\n",
    "\n",
    "#plt.annotate(line_eq, (240,20), fontsize = 10)\n",
    "\n",
    "plt.title('Correlation of Wind Speed and Latitude (Southern Hemisphere) 3/7/21')\n",
    "plt.xlabel('Wind Speed')\n",
    "plt.ylabel('Latitude')\n",
    "plt.show"
   ]
  },
  {
   "cell_type": "markdown",
   "metadata": {},
   "source": [
    "These plots indicate that wind speeds tend to be less that 10 mph except at extreme latitudes."
   ]
  }
 ],
 "metadata": {
  "anaconda-cloud": {},
  "kernel_info": {
   "name": "python3"
  },
  "kernelspec": {
   "display_name": "Python 3",
   "language": "python",
   "name": "python3"
  },
  "language_info": {
   "codemirror_mode": {
    "name": "ipython",
    "version": 3
   },
   "file_extension": ".py",
   "mimetype": "text/x-python",
   "name": "python",
   "nbconvert_exporter": "python",
   "pygments_lexer": "ipython3",
   "version": "3.8.5"
  },
  "latex_envs": {
   "LaTeX_envs_menu_present": true,
   "autoclose": false,
   "autocomplete": true,
   "bibliofile": "biblio.bib",
   "cite_by": "apalike",
   "current_citInitial": 1,
   "eqLabelWithNumbers": true,
   "eqNumInitial": 1,
   "hotkeys": {
    "equation": "Ctrl-E",
    "itemize": "Ctrl-I"
   },
   "labels_anchors": false,
   "latex_user_defs": false,
   "report_style_numbering": false,
   "user_envs_cfg": false
  },
  "nteract": {
   "version": "0.12.3"
  }
 },
 "nbformat": 4,
 "nbformat_minor": 4
}
